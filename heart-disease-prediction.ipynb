{
  "cells": [
    {
      "cell_type": "markdown",
      "metadata": {
        "id": "TSy-oYCKpVqJ"
      },
      "source": [
        "# Guilherme Fontana e Lucas Klug\n",
        "#### Universidade de Caxias do Sul\n",
        "#### Fundamentos de Inteligência Artificial"
      ]
    },
    {
      "cell_type": "markdown",
      "metadata": {
        "id": "O6bFCRKe08Lt"
      },
      "source": [
        "##Tratamento dos dados"
      ]
    },
    {
      "cell_type": "markdown",
      "source": [
        "####Importação das bibliotecas"
      ],
      "metadata": {
        "id": "wuq3-oUiVN0J"
      }
    },
    {
      "cell_type": "code",
      "metadata": {
        "id": "z_EkvP_y29Ge"
      },
      "source": [
        "from sklearn import metrics, neighbors, datasets, tree\n",
        "from sklearn.tree import DecisionTreeClassifier, plot_tree, export_graphviz, export_text\n",
        "from sklearn.model_selection import train_test_split, cross_val_predict, GridSearchCV\n",
        "from sklearn.metrics import accuracy_score, confusion_matrix, classification_report, roc_curve, auc\n",
        "from sklearn.preprocessing import MinMaxScaler\n",
        "from sklearn.neighbors import KNeighborsClassifier\n",
        "from sklearn.metrics import mean_squared_error,mean_absolute_error\n",
        "from sklearn.naive_bayes import GaussianNB, BernoulliNB\n",
        "import numpy as np\n",
        "import matplotlib.pyplot as plt\n",
        "import pandas as pd\n",
        "import seaborn as sb\n",
        "from imblearn.over_sampling import SMOTE\n",
        "from google.colab import files, drive\n",
        "from graphviz import Source"
      ],
      "execution_count": 3,
      "outputs": []
    },
    {
      "cell_type": "markdown",
      "source": [
        "#### Leitura e tratamento dos dados"
      ],
      "metadata": {
        "id": "Oq7gS8-PVTUb"
      }
    },
    {
      "cell_type": "code",
      "metadata": {
        "id": "OgjtIlbtZlCo",
        "colab": {
          "base_uri": "https://localhost:8080/",
          "height": 72
        },
        "outputId": "6cecbc58-e057-44b7-d5eb-7f4e52dc30e2"
      },
      "source": [
        "#arquivo = files.upload()\n",
        "#file = pd.read_csv('heart.csv')"
      ],
      "execution_count": null,
      "outputs": [
        {
          "output_type": "display_data",
          "data": {
            "text/plain": [
              "<IPython.core.display.HTML object>"
            ],
            "text/html": [
              "\n",
              "     <input type=\"file\" id=\"files-9499eadd-ac7f-482f-a6f6-fe47f4e0a69d\" name=\"files[]\" multiple disabled\n",
              "        style=\"border:none\" />\n",
              "     <output id=\"result-9499eadd-ac7f-482f-a6f6-fe47f4e0a69d\">\n",
              "      Upload widget is only available when the cell has been executed in the\n",
              "      current browser session. Please rerun this cell to enable.\n",
              "      </output>\n",
              "      <script>// Copyright 2017 Google LLC\n",
              "//\n",
              "// Licensed under the Apache License, Version 2.0 (the \"License\");\n",
              "// you may not use this file except in compliance with the License.\n",
              "// You may obtain a copy of the License at\n",
              "//\n",
              "//      http://www.apache.org/licenses/LICENSE-2.0\n",
              "//\n",
              "// Unless required by applicable law or agreed to in writing, software\n",
              "// distributed under the License is distributed on an \"AS IS\" BASIS,\n",
              "// WITHOUT WARRANTIES OR CONDITIONS OF ANY KIND, either express or implied.\n",
              "// See the License for the specific language governing permissions and\n",
              "// limitations under the License.\n",
              "\n",
              "/**\n",
              " * @fileoverview Helpers for google.colab Python module.\n",
              " */\n",
              "(function(scope) {\n",
              "function span(text, styleAttributes = {}) {\n",
              "  const element = document.createElement('span');\n",
              "  element.textContent = text;\n",
              "  for (const key of Object.keys(styleAttributes)) {\n",
              "    element.style[key] = styleAttributes[key];\n",
              "  }\n",
              "  return element;\n",
              "}\n",
              "\n",
              "// Max number of bytes which will be uploaded at a time.\n",
              "const MAX_PAYLOAD_SIZE = 100 * 1024;\n",
              "\n",
              "function _uploadFiles(inputId, outputId) {\n",
              "  const steps = uploadFilesStep(inputId, outputId);\n",
              "  const outputElement = document.getElementById(outputId);\n",
              "  // Cache steps on the outputElement to make it available for the next call\n",
              "  // to uploadFilesContinue from Python.\n",
              "  outputElement.steps = steps;\n",
              "\n",
              "  return _uploadFilesContinue(outputId);\n",
              "}\n",
              "\n",
              "// This is roughly an async generator (not supported in the browser yet),\n",
              "// where there are multiple asynchronous steps and the Python side is going\n",
              "// to poll for completion of each step.\n",
              "// This uses a Promise to block the python side on completion of each step,\n",
              "// then passes the result of the previous step as the input to the next step.\n",
              "function _uploadFilesContinue(outputId) {\n",
              "  const outputElement = document.getElementById(outputId);\n",
              "  const steps = outputElement.steps;\n",
              "\n",
              "  const next = steps.next(outputElement.lastPromiseValue);\n",
              "  return Promise.resolve(next.value.promise).then((value) => {\n",
              "    // Cache the last promise value to make it available to the next\n",
              "    // step of the generator.\n",
              "    outputElement.lastPromiseValue = value;\n",
              "    return next.value.response;\n",
              "  });\n",
              "}\n",
              "\n",
              "/**\n",
              " * Generator function which is called between each async step of the upload\n",
              " * process.\n",
              " * @param {string} inputId Element ID of the input file picker element.\n",
              " * @param {string} outputId Element ID of the output display.\n",
              " * @return {!Iterable<!Object>} Iterable of next steps.\n",
              " */\n",
              "function* uploadFilesStep(inputId, outputId) {\n",
              "  const inputElement = document.getElementById(inputId);\n",
              "  inputElement.disabled = false;\n",
              "\n",
              "  const outputElement = document.getElementById(outputId);\n",
              "  outputElement.innerHTML = '';\n",
              "\n",
              "  const pickedPromise = new Promise((resolve) => {\n",
              "    inputElement.addEventListener('change', (e) => {\n",
              "      resolve(e.target.files);\n",
              "    });\n",
              "  });\n",
              "\n",
              "  const cancel = document.createElement('button');\n",
              "  inputElement.parentElement.appendChild(cancel);\n",
              "  cancel.textContent = 'Cancel upload';\n",
              "  const cancelPromise = new Promise((resolve) => {\n",
              "    cancel.onclick = () => {\n",
              "      resolve(null);\n",
              "    };\n",
              "  });\n",
              "\n",
              "  // Wait for the user to pick the files.\n",
              "  const files = yield {\n",
              "    promise: Promise.race([pickedPromise, cancelPromise]),\n",
              "    response: {\n",
              "      action: 'starting',\n",
              "    }\n",
              "  };\n",
              "\n",
              "  cancel.remove();\n",
              "\n",
              "  // Disable the input element since further picks are not allowed.\n",
              "  inputElement.disabled = true;\n",
              "\n",
              "  if (!files) {\n",
              "    return {\n",
              "      response: {\n",
              "        action: 'complete',\n",
              "      }\n",
              "    };\n",
              "  }\n",
              "\n",
              "  for (const file of files) {\n",
              "    const li = document.createElement('li');\n",
              "    li.append(span(file.name, {fontWeight: 'bold'}));\n",
              "    li.append(span(\n",
              "        `(${file.type || 'n/a'}) - ${file.size} bytes, ` +\n",
              "        `last modified: ${\n",
              "            file.lastModifiedDate ? file.lastModifiedDate.toLocaleDateString() :\n",
              "                                    'n/a'} - `));\n",
              "    const percent = span('0% done');\n",
              "    li.appendChild(percent);\n",
              "\n",
              "    outputElement.appendChild(li);\n",
              "\n",
              "    const fileDataPromise = new Promise((resolve) => {\n",
              "      const reader = new FileReader();\n",
              "      reader.onload = (e) => {\n",
              "        resolve(e.target.result);\n",
              "      };\n",
              "      reader.readAsArrayBuffer(file);\n",
              "    });\n",
              "    // Wait for the data to be ready.\n",
              "    let fileData = yield {\n",
              "      promise: fileDataPromise,\n",
              "      response: {\n",
              "        action: 'continue',\n",
              "      }\n",
              "    };\n",
              "\n",
              "    // Use a chunked sending to avoid message size limits. See b/62115660.\n",
              "    let position = 0;\n",
              "    do {\n",
              "      const length = Math.min(fileData.byteLength - position, MAX_PAYLOAD_SIZE);\n",
              "      const chunk = new Uint8Array(fileData, position, length);\n",
              "      position += length;\n",
              "\n",
              "      const base64 = btoa(String.fromCharCode.apply(null, chunk));\n",
              "      yield {\n",
              "        response: {\n",
              "          action: 'append',\n",
              "          file: file.name,\n",
              "          data: base64,\n",
              "        },\n",
              "      };\n",
              "\n",
              "      let percentDone = fileData.byteLength === 0 ?\n",
              "          100 :\n",
              "          Math.round((position / fileData.byteLength) * 100);\n",
              "      percent.textContent = `${percentDone}% done`;\n",
              "\n",
              "    } while (position < fileData.byteLength);\n",
              "  }\n",
              "\n",
              "  // All done.\n",
              "  yield {\n",
              "    response: {\n",
              "      action: 'complete',\n",
              "    }\n",
              "  };\n",
              "}\n",
              "\n",
              "scope.google = scope.google || {};\n",
              "scope.google.colab = scope.google.colab || {};\n",
              "scope.google.colab._files = {\n",
              "  _uploadFiles,\n",
              "  _uploadFilesContinue,\n",
              "};\n",
              "})(self);\n",
              "</script> "
            ]
          },
          "metadata": {}
        },
        {
          "output_type": "stream",
          "name": "stdout",
          "text": [
            "Saving heart.csv to heart.csv\n"
          ]
        }
      ]
    },
    {
      "cell_type": "code",
      "metadata": {
        "id": "QOiQ6FlCZ-to",
        "colab": {
          "base_uri": "https://localhost:8080/",
          "height": 206
        },
        "outputId": "a7c50eb9-7fd0-4a50-d770-bbce05d25ae2"
      },
      "source": [
        "#https://www.kaggle.com/datasets/fedesoriano/heart-failure-prediction\n",
        "file = pd.read_csv('/heart.csv')\n",
        "file.head()"
      ],
      "execution_count": 8,
      "outputs": [
        {
          "output_type": "execute_result",
          "data": {
            "text/plain": [
              "   Age Sex ChestPainType  RestingBP  Cholesterol  FastingBS RestingECG  MaxHR  \\\n",
              "0   40   M           ATA        140          289          0     Normal    172   \n",
              "1   49   F           NAP        160          180          0     Normal    156   \n",
              "2   37   M           ATA        130          283          0         ST     98   \n",
              "3   48   F           ASY        138          214          0     Normal    108   \n",
              "4   54   M           NAP        150          195          0     Normal    122   \n",
              "\n",
              "  ExerciseAngina  Oldpeak ST_Slope  HeartDisease  \n",
              "0              N      0.0       Up             0  \n",
              "1              N      1.0     Flat             1  \n",
              "2              N      0.0       Up             0  \n",
              "3              Y      1.5     Flat             1  \n",
              "4              N      0.0       Up             0  "
            ],
            "text/html": [
              "\n",
              "  <div id=\"df-cd5877a7-aa96-4c35-81c7-091b3a50b0de\">\n",
              "    <div class=\"colab-df-container\">\n",
              "      <div>\n",
              "<style scoped>\n",
              "    .dataframe tbody tr th:only-of-type {\n",
              "        vertical-align: middle;\n",
              "    }\n",
              "\n",
              "    .dataframe tbody tr th {\n",
              "        vertical-align: top;\n",
              "    }\n",
              "\n",
              "    .dataframe thead th {\n",
              "        text-align: right;\n",
              "    }\n",
              "</style>\n",
              "<table border=\"1\" class=\"dataframe\">\n",
              "  <thead>\n",
              "    <tr style=\"text-align: right;\">\n",
              "      <th></th>\n",
              "      <th>Age</th>\n",
              "      <th>Sex</th>\n",
              "      <th>ChestPainType</th>\n",
              "      <th>RestingBP</th>\n",
              "      <th>Cholesterol</th>\n",
              "      <th>FastingBS</th>\n",
              "      <th>RestingECG</th>\n",
              "      <th>MaxHR</th>\n",
              "      <th>ExerciseAngina</th>\n",
              "      <th>Oldpeak</th>\n",
              "      <th>ST_Slope</th>\n",
              "      <th>HeartDisease</th>\n",
              "    </tr>\n",
              "  </thead>\n",
              "  <tbody>\n",
              "    <tr>\n",
              "      <th>0</th>\n",
              "      <td>40</td>\n",
              "      <td>M</td>\n",
              "      <td>ATA</td>\n",
              "      <td>140</td>\n",
              "      <td>289</td>\n",
              "      <td>0</td>\n",
              "      <td>Normal</td>\n",
              "      <td>172</td>\n",
              "      <td>N</td>\n",
              "      <td>0.0</td>\n",
              "      <td>Up</td>\n",
              "      <td>0</td>\n",
              "    </tr>\n",
              "    <tr>\n",
              "      <th>1</th>\n",
              "      <td>49</td>\n",
              "      <td>F</td>\n",
              "      <td>NAP</td>\n",
              "      <td>160</td>\n",
              "      <td>180</td>\n",
              "      <td>0</td>\n",
              "      <td>Normal</td>\n",
              "      <td>156</td>\n",
              "      <td>N</td>\n",
              "      <td>1.0</td>\n",
              "      <td>Flat</td>\n",
              "      <td>1</td>\n",
              "    </tr>\n",
              "    <tr>\n",
              "      <th>2</th>\n",
              "      <td>37</td>\n",
              "      <td>M</td>\n",
              "      <td>ATA</td>\n",
              "      <td>130</td>\n",
              "      <td>283</td>\n",
              "      <td>0</td>\n",
              "      <td>ST</td>\n",
              "      <td>98</td>\n",
              "      <td>N</td>\n",
              "      <td>0.0</td>\n",
              "      <td>Up</td>\n",
              "      <td>0</td>\n",
              "    </tr>\n",
              "    <tr>\n",
              "      <th>3</th>\n",
              "      <td>48</td>\n",
              "      <td>F</td>\n",
              "      <td>ASY</td>\n",
              "      <td>138</td>\n",
              "      <td>214</td>\n",
              "      <td>0</td>\n",
              "      <td>Normal</td>\n",
              "      <td>108</td>\n",
              "      <td>Y</td>\n",
              "      <td>1.5</td>\n",
              "      <td>Flat</td>\n",
              "      <td>1</td>\n",
              "    </tr>\n",
              "    <tr>\n",
              "      <th>4</th>\n",
              "      <td>54</td>\n",
              "      <td>M</td>\n",
              "      <td>NAP</td>\n",
              "      <td>150</td>\n",
              "      <td>195</td>\n",
              "      <td>0</td>\n",
              "      <td>Normal</td>\n",
              "      <td>122</td>\n",
              "      <td>N</td>\n",
              "      <td>0.0</td>\n",
              "      <td>Up</td>\n",
              "      <td>0</td>\n",
              "    </tr>\n",
              "  </tbody>\n",
              "</table>\n",
              "</div>\n",
              "      <button class=\"colab-df-convert\" onclick=\"convertToInteractive('df-cd5877a7-aa96-4c35-81c7-091b3a50b0de')\"\n",
              "              title=\"Convert this dataframe to an interactive table.\"\n",
              "              style=\"display:none;\">\n",
              "        \n",
              "  <svg xmlns=\"http://www.w3.org/2000/svg\" height=\"24px\"viewBox=\"0 0 24 24\"\n",
              "       width=\"24px\">\n",
              "    <path d=\"M0 0h24v24H0V0z\" fill=\"none\"/>\n",
              "    <path d=\"M18.56 5.44l.94 2.06.94-2.06 2.06-.94-2.06-.94-.94-2.06-.94 2.06-2.06.94zm-11 1L8.5 8.5l.94-2.06 2.06-.94-2.06-.94L8.5 2.5l-.94 2.06-2.06.94zm10 10l.94 2.06.94-2.06 2.06-.94-2.06-.94-.94-2.06-.94 2.06-2.06.94z\"/><path d=\"M17.41 7.96l-1.37-1.37c-.4-.4-.92-.59-1.43-.59-.52 0-1.04.2-1.43.59L10.3 9.45l-7.72 7.72c-.78.78-.78 2.05 0 2.83L4 21.41c.39.39.9.59 1.41.59.51 0 1.02-.2 1.41-.59l7.78-7.78 2.81-2.81c.8-.78.8-2.07 0-2.86zM5.41 20L4 18.59l7.72-7.72 1.47 1.35L5.41 20z\"/>\n",
              "  </svg>\n",
              "      </button>\n",
              "      \n",
              "  <style>\n",
              "    .colab-df-container {\n",
              "      display:flex;\n",
              "      flex-wrap:wrap;\n",
              "      gap: 12px;\n",
              "    }\n",
              "\n",
              "    .colab-df-convert {\n",
              "      background-color: #E8F0FE;\n",
              "      border: none;\n",
              "      border-radius: 50%;\n",
              "      cursor: pointer;\n",
              "      display: none;\n",
              "      fill: #1967D2;\n",
              "      height: 32px;\n",
              "      padding: 0 0 0 0;\n",
              "      width: 32px;\n",
              "    }\n",
              "\n",
              "    .colab-df-convert:hover {\n",
              "      background-color: #E2EBFA;\n",
              "      box-shadow: 0px 1px 2px rgba(60, 64, 67, 0.3), 0px 1px 3px 1px rgba(60, 64, 67, 0.15);\n",
              "      fill: #174EA6;\n",
              "    }\n",
              "\n",
              "    [theme=dark] .colab-df-convert {\n",
              "      background-color: #3B4455;\n",
              "      fill: #D2E3FC;\n",
              "    }\n",
              "\n",
              "    [theme=dark] .colab-df-convert:hover {\n",
              "      background-color: #434B5C;\n",
              "      box-shadow: 0px 1px 3px 1px rgba(0, 0, 0, 0.15);\n",
              "      filter: drop-shadow(0px 1px 2px rgba(0, 0, 0, 0.3));\n",
              "      fill: #FFFFFF;\n",
              "    }\n",
              "  </style>\n",
              "\n",
              "      <script>\n",
              "        const buttonEl =\n",
              "          document.querySelector('#df-cd5877a7-aa96-4c35-81c7-091b3a50b0de button.colab-df-convert');\n",
              "        buttonEl.style.display =\n",
              "          google.colab.kernel.accessAllowed ? 'block' : 'none';\n",
              "\n",
              "        async function convertToInteractive(key) {\n",
              "          const element = document.querySelector('#df-cd5877a7-aa96-4c35-81c7-091b3a50b0de');\n",
              "          const dataTable =\n",
              "            await google.colab.kernel.invokeFunction('convertToInteractive',\n",
              "                                                     [key], {});\n",
              "          if (!dataTable) return;\n",
              "\n",
              "          const docLinkHtml = 'Like what you see? Visit the ' +\n",
              "            '<a target=\"_blank\" href=https://colab.research.google.com/notebooks/data_table.ipynb>data table notebook</a>'\n",
              "            + ' to learn more about interactive tables.';\n",
              "          element.innerHTML = '';\n",
              "          dataTable['output_type'] = 'display_data';\n",
              "          await google.colab.output.renderOutput(dataTable, element);\n",
              "          const docLink = document.createElement('div');\n",
              "          docLink.innerHTML = docLinkHtml;\n",
              "          element.appendChild(docLink);\n",
              "        }\n",
              "      </script>\n",
              "    </div>\n",
              "  </div>\n",
              "  "
            ]
          },
          "metadata": {},
          "execution_count": 8
        }
      ]
    },
    {
      "cell_type": "code",
      "execution_count": null,
      "metadata": {
        "id": "RPJbpOiC5ym1"
      },
      "outputs": [],
      "source": [
        "data = file.copy()"
      ]
    },
    {
      "cell_type": "code",
      "execution_count": null,
      "metadata": {
        "id": "qyTI6Nnq53hZ",
        "colab": {
          "base_uri": "https://localhost:8080/",
          "height": 206
        },
        "outputId": "a97748c7-e0ed-439c-edc6-092495474b2a"
      },
      "outputs": [
        {
          "output_type": "display_data",
          "data": {
            "text/plain": [
              "   Age  Sex  ChestPainType  RestingBP  Cholesterol  FastingBS  RestingECG  \\\n",
              "0   40    0              1        140          289          0           1   \n",
              "1   49    1              3        160          180          0           1   \n",
              "2   37    0              1        130          283          0           0   \n",
              "3   48    1              0        138          214          0           1   \n",
              "4   54    0              3        150          195          0           1   \n",
              "\n",
              "   MaxHR  ExerciseAngina  Oldpeak  ST_Slope  HeartDisease  \n",
              "0    172               0      0.0         1             0  \n",
              "1    156               0      1.0         2             1  \n",
              "2     98               0      0.0         1             0  \n",
              "3    108               1      1.5         2             1  \n",
              "4    122               0      0.0         1             0  "
            ],
            "text/html": [
              "\n",
              "  <div id=\"df-c48a89f0-a01e-4ef8-a672-96ad4baccfaa\">\n",
              "    <div class=\"colab-df-container\">\n",
              "      <div>\n",
              "<style scoped>\n",
              "    .dataframe tbody tr th:only-of-type {\n",
              "        vertical-align: middle;\n",
              "    }\n",
              "\n",
              "    .dataframe tbody tr th {\n",
              "        vertical-align: top;\n",
              "    }\n",
              "\n",
              "    .dataframe thead th {\n",
              "        text-align: right;\n",
              "    }\n",
              "</style>\n",
              "<table border=\"1\" class=\"dataframe\">\n",
              "  <thead>\n",
              "    <tr style=\"text-align: right;\">\n",
              "      <th></th>\n",
              "      <th>Age</th>\n",
              "      <th>Sex</th>\n",
              "      <th>ChestPainType</th>\n",
              "      <th>RestingBP</th>\n",
              "      <th>Cholesterol</th>\n",
              "      <th>FastingBS</th>\n",
              "      <th>RestingECG</th>\n",
              "      <th>MaxHR</th>\n",
              "      <th>ExerciseAngina</th>\n",
              "      <th>Oldpeak</th>\n",
              "      <th>ST_Slope</th>\n",
              "      <th>HeartDisease</th>\n",
              "    </tr>\n",
              "  </thead>\n",
              "  <tbody>\n",
              "    <tr>\n",
              "      <th>0</th>\n",
              "      <td>40</td>\n",
              "      <td>0</td>\n",
              "      <td>1</td>\n",
              "      <td>140</td>\n",
              "      <td>289</td>\n",
              "      <td>0</td>\n",
              "      <td>1</td>\n",
              "      <td>172</td>\n",
              "      <td>0</td>\n",
              "      <td>0.0</td>\n",
              "      <td>1</td>\n",
              "      <td>0</td>\n",
              "    </tr>\n",
              "    <tr>\n",
              "      <th>1</th>\n",
              "      <td>49</td>\n",
              "      <td>1</td>\n",
              "      <td>3</td>\n",
              "      <td>160</td>\n",
              "      <td>180</td>\n",
              "      <td>0</td>\n",
              "      <td>1</td>\n",
              "      <td>156</td>\n",
              "      <td>0</td>\n",
              "      <td>1.0</td>\n",
              "      <td>2</td>\n",
              "      <td>1</td>\n",
              "    </tr>\n",
              "    <tr>\n",
              "      <th>2</th>\n",
              "      <td>37</td>\n",
              "      <td>0</td>\n",
              "      <td>1</td>\n",
              "      <td>130</td>\n",
              "      <td>283</td>\n",
              "      <td>0</td>\n",
              "      <td>0</td>\n",
              "      <td>98</td>\n",
              "      <td>0</td>\n",
              "      <td>0.0</td>\n",
              "      <td>1</td>\n",
              "      <td>0</td>\n",
              "    </tr>\n",
              "    <tr>\n",
              "      <th>3</th>\n",
              "      <td>48</td>\n",
              "      <td>1</td>\n",
              "      <td>0</td>\n",
              "      <td>138</td>\n",
              "      <td>214</td>\n",
              "      <td>0</td>\n",
              "      <td>1</td>\n",
              "      <td>108</td>\n",
              "      <td>1</td>\n",
              "      <td>1.5</td>\n",
              "      <td>2</td>\n",
              "      <td>1</td>\n",
              "    </tr>\n",
              "    <tr>\n",
              "      <th>4</th>\n",
              "      <td>54</td>\n",
              "      <td>0</td>\n",
              "      <td>3</td>\n",
              "      <td>150</td>\n",
              "      <td>195</td>\n",
              "      <td>0</td>\n",
              "      <td>1</td>\n",
              "      <td>122</td>\n",
              "      <td>0</td>\n",
              "      <td>0.0</td>\n",
              "      <td>1</td>\n",
              "      <td>0</td>\n",
              "    </tr>\n",
              "  </tbody>\n",
              "</table>\n",
              "</div>\n",
              "      <button class=\"colab-df-convert\" onclick=\"convertToInteractive('df-c48a89f0-a01e-4ef8-a672-96ad4baccfaa')\"\n",
              "              title=\"Convert this dataframe to an interactive table.\"\n",
              "              style=\"display:none;\">\n",
              "        \n",
              "  <svg xmlns=\"http://www.w3.org/2000/svg\" height=\"24px\"viewBox=\"0 0 24 24\"\n",
              "       width=\"24px\">\n",
              "    <path d=\"M0 0h24v24H0V0z\" fill=\"none\"/>\n",
              "    <path d=\"M18.56 5.44l.94 2.06.94-2.06 2.06-.94-2.06-.94-.94-2.06-.94 2.06-2.06.94zm-11 1L8.5 8.5l.94-2.06 2.06-.94-2.06-.94L8.5 2.5l-.94 2.06-2.06.94zm10 10l.94 2.06.94-2.06 2.06-.94-2.06-.94-.94-2.06-.94 2.06-2.06.94z\"/><path d=\"M17.41 7.96l-1.37-1.37c-.4-.4-.92-.59-1.43-.59-.52 0-1.04.2-1.43.59L10.3 9.45l-7.72 7.72c-.78.78-.78 2.05 0 2.83L4 21.41c.39.39.9.59 1.41.59.51 0 1.02-.2 1.41-.59l7.78-7.78 2.81-2.81c.8-.78.8-2.07 0-2.86zM5.41 20L4 18.59l7.72-7.72 1.47 1.35L5.41 20z\"/>\n",
              "  </svg>\n",
              "      </button>\n",
              "      \n",
              "  <style>\n",
              "    .colab-df-container {\n",
              "      display:flex;\n",
              "      flex-wrap:wrap;\n",
              "      gap: 12px;\n",
              "    }\n",
              "\n",
              "    .colab-df-convert {\n",
              "      background-color: #E8F0FE;\n",
              "      border: none;\n",
              "      border-radius: 50%;\n",
              "      cursor: pointer;\n",
              "      display: none;\n",
              "      fill: #1967D2;\n",
              "      height: 32px;\n",
              "      padding: 0 0 0 0;\n",
              "      width: 32px;\n",
              "    }\n",
              "\n",
              "    .colab-df-convert:hover {\n",
              "      background-color: #E2EBFA;\n",
              "      box-shadow: 0px 1px 2px rgba(60, 64, 67, 0.3), 0px 1px 3px 1px rgba(60, 64, 67, 0.15);\n",
              "      fill: #174EA6;\n",
              "    }\n",
              "\n",
              "    [theme=dark] .colab-df-convert {\n",
              "      background-color: #3B4455;\n",
              "      fill: #D2E3FC;\n",
              "    }\n",
              "\n",
              "    [theme=dark] .colab-df-convert:hover {\n",
              "      background-color: #434B5C;\n",
              "      box-shadow: 0px 1px 3px 1px rgba(0, 0, 0, 0.15);\n",
              "      filter: drop-shadow(0px 1px 2px rgba(0, 0, 0, 0.3));\n",
              "      fill: #FFFFFF;\n",
              "    }\n",
              "  </style>\n",
              "\n",
              "      <script>\n",
              "        const buttonEl =\n",
              "          document.querySelector('#df-c48a89f0-a01e-4ef8-a672-96ad4baccfaa button.colab-df-convert');\n",
              "        buttonEl.style.display =\n",
              "          google.colab.kernel.accessAllowed ? 'block' : 'none';\n",
              "\n",
              "        async function convertToInteractive(key) {\n",
              "          const element = document.querySelector('#df-c48a89f0-a01e-4ef8-a672-96ad4baccfaa');\n",
              "          const dataTable =\n",
              "            await google.colab.kernel.invokeFunction('convertToInteractive',\n",
              "                                                     [key], {});\n",
              "          if (!dataTable) return;\n",
              "\n",
              "          const docLinkHtml = 'Like what you see? Visit the ' +\n",
              "            '<a target=\"_blank\" href=https://colab.research.google.com/notebooks/data_table.ipynb>data table notebook</a>'\n",
              "            + ' to learn more about interactive tables.';\n",
              "          element.innerHTML = '';\n",
              "          dataTable['output_type'] = 'display_data';\n",
              "          await google.colab.output.renderOutput(dataTable, element);\n",
              "          const docLink = document.createElement('div');\n",
              "          docLink.innerHTML = docLinkHtml;\n",
              "          element.appendChild(docLink);\n",
              "        }\n",
              "      </script>\n",
              "    </div>\n",
              "  </div>\n",
              "  "
            ]
          },
          "metadata": {}
        }
      ],
      "source": [
        "def index_of_dic(dic, key):\n",
        "    return dic[key]\n",
        "\n",
        "def StrList_to_UniqueIndexList(lista):\n",
        "    group = set(lista)\n",
        "\n",
        "    dic = {}\n",
        "    i = 0\n",
        "    for g in group:\n",
        "        if g not in dic:\n",
        "            dic[g] = i\n",
        "            i += 1\n",
        "\n",
        "    return [index_of_dic(dic, p) for p in lista]\n",
        "\n",
        "\n",
        "data['Sex'] = StrList_to_UniqueIndexList(data['Sex'])\n",
        "data['ChestPainType'] = StrList_to_UniqueIndexList(data['ChestPainType'])\n",
        "data['RestingECG'] = StrList_to_UniqueIndexList(data['RestingECG'])\n",
        "data['ExerciseAngina'] = StrList_to_UniqueIndexList(data['ExerciseAngina'])\n",
        "data['ST_Slope'] = StrList_to_UniqueIndexList(data['ST_Slope'])\n",
        "\n",
        "display(data.head(5))"
      ]
    },
    {
      "cell_type": "code",
      "metadata": {
        "id": "NTjmK0n_29Gf"
      },
      "source": [
        "heart_cols = ['Age', 'Sex', 'ChestPainType', 'RestingBP', 'Cholesterol', 'FastingBS', 'RestingECG', 'MaxHR', 'ExerciseAngina', 'Oldpeak', 'ST_Slope', 'HeartDisease']\n",
        "\n",
        "X = data.values[:, :11]\n",
        "y = data.values[:, 11]"
      ],
      "execution_count": null,
      "outputs": []
    },
    {
      "cell_type": "markdown",
      "source": [
        "#### Balanceamento de Classes - Método SMOTE\n",
        "##### Os modelos gerados a seguir utilizam o balanceamento SMOTE.\n"
      ],
      "metadata": {
        "id": "lWrRN_iV-gjb"
      }
    },
    {
      "cell_type": "code",
      "source": [
        "#Dados antes do balanceamento\n",
        "print(pd.DataFrame(X, y))"
      ],
      "metadata": {
        "colab": {
          "base_uri": "https://localhost:8080/"
        },
        "id": "3PVhNeAd8mHK",
        "outputId": "2118b440-75c9-4d6a-b4ba-fc0c45eabd7b"
      },
      "execution_count": null,
      "outputs": [
        {
          "output_type": "stream",
          "name": "stdout",
          "text": [
            "       0    1    2      3      4    5    6      7    8    9    10\n",
            "0.0  40.0  0.0  1.0  140.0  289.0  0.0  1.0  172.0  0.0  0.0  1.0\n",
            "1.0  49.0  1.0  3.0  160.0  180.0  0.0  1.0  156.0  0.0  1.0  2.0\n",
            "0.0  37.0  0.0  1.0  130.0  283.0  0.0  0.0   98.0  0.0  0.0  1.0\n",
            "1.0  48.0  1.0  0.0  138.0  214.0  0.0  1.0  108.0  1.0  1.5  2.0\n",
            "0.0  54.0  0.0  3.0  150.0  195.0  0.0  1.0  122.0  0.0  0.0  1.0\n",
            "..    ...  ...  ...    ...    ...  ...  ...    ...  ...  ...  ...\n",
            "1.0  45.0  0.0  2.0  110.0  264.0  0.0  1.0  132.0  0.0  1.2  2.0\n",
            "1.0  68.0  0.0  0.0  144.0  193.0  1.0  1.0  141.0  0.0  3.4  2.0\n",
            "1.0  57.0  0.0  0.0  130.0  131.0  0.0  1.0  115.0  1.0  1.2  2.0\n",
            "1.0  57.0  1.0  1.0  130.0  236.0  0.0  2.0  174.0  0.0  0.0  2.0\n",
            "0.0  38.0  0.0  3.0  138.0  175.0  0.0  1.0  173.0  0.0  0.0  1.0\n",
            "\n",
            "[918 rows x 11 columns]\n"
          ]
        }
      ]
    },
    {
      "cell_type": "code",
      "source": [
        "sm = SMOTE(random_state=73, k_neighbors = 4)\n",
        "X, y = sm.fit_resample(X, y)\n",
        "#Dados depois do balanceamento\n",
        "print(pd.DataFrame(X, y))"
      ],
      "metadata": {
        "id": "TFhi5jEz-m9S",
        "colab": {
          "base_uri": "https://localhost:8080/"
        },
        "outputId": "1816b107-f634-4af2-c07e-7176e1b586ca"
      },
      "execution_count": null,
      "outputs": [
        {
          "output_type": "stream",
          "name": "stdout",
          "text": [
            "            0         1         2           3           4         5   \\\n",
            "0.0  40.000000  0.000000  1.000000  140.000000  289.000000  0.000000   \n",
            "1.0  49.000000  1.000000  3.000000  160.000000  180.000000  0.000000   \n",
            "0.0  37.000000  0.000000  1.000000  130.000000  283.000000  0.000000   \n",
            "1.0  48.000000  1.000000  0.000000  138.000000  214.000000  0.000000   \n",
            "0.0  54.000000  0.000000  3.000000  150.000000  195.000000  0.000000   \n",
            "..         ...       ...       ...         ...         ...       ...   \n",
            "0.0  66.173716  0.802389  0.000000  135.928316  304.383274  0.197611   \n",
            "0.0  43.272495  0.324642  0.675358  116.104295  158.947853  0.000000   \n",
            "0.0  45.425981  1.000000  1.990131  120.000000  274.504935  0.000000   \n",
            "0.0  50.642063  0.000000  1.871587  113.761375    0.000000  0.000000   \n",
            "0.0  45.332808  0.740799  3.000000  147.407992  255.296004  0.000000   \n",
            "\n",
            "           6           7         8         9         10  \n",
            "0.0  1.000000  172.000000  0.000000  0.000000  1.000000  \n",
            "1.0  1.000000  156.000000  0.000000  1.000000  2.000000  \n",
            "0.0  0.000000   98.000000  0.000000  0.000000  1.000000  \n",
            "1.0  1.000000  108.000000  1.000000  1.500000  2.000000  \n",
            "0.0  1.000000  122.000000  0.000000  0.000000  1.000000  \n",
            "..        ...         ...       ...       ...       ...  \n",
            "0.0  1.000000  120.023895  0.197611  2.000000  1.604779  \n",
            "0.0  1.000000  179.727505  0.000000  0.649284  1.000000  \n",
            "0.0  1.000000  129.495065  0.000000  0.000000  1.000000  \n",
            "0.0  1.000000  136.119312  0.376138  0.689889  1.000000  \n",
            "0.0  0.740799  173.703996  0.000000  0.000000  1.000000  \n",
            "\n",
            "[1016 rows x 11 columns]\n"
          ]
        }
      ]
    },
    {
      "cell_type": "markdown",
      "source": [
        "#### Normalização dos dados - Método MinMaxScaler"
      ],
      "metadata": {
        "id": "yXbXS0OC97ao"
      }
    },
    {
      "cell_type": "code",
      "source": [
        "#Dados antes da normalização\n",
        "print(X)"
      ],
      "metadata": {
        "colab": {
          "base_uri": "https://localhost:8080/"
        },
        "id": "P05uNgavM-MP",
        "outputId": "8989b9ee-ebbc-4561-cdcc-3867176c0d89"
      },
      "execution_count": null,
      "outputs": [
        {
          "output_type": "stream",
          "name": "stdout",
          "text": [
            "[[40.          0.          1.         ...  0.          0.\n",
            "   1.        ]\n",
            " [49.          1.          3.         ...  0.          1.\n",
            "   2.        ]\n",
            " [37.          0.          1.         ...  0.          0.\n",
            "   1.        ]\n",
            " ...\n",
            " [45.4259809   1.          1.99013079 ...  0.          0.\n",
            "   1.        ]\n",
            " [50.6420632   0.          1.87158736 ...  0.37613755  0.68988885\n",
            "   1.        ]\n",
            " [45.33280763  0.74079915  3.         ...  0.          0.\n",
            "   1.        ]]\n"
          ]
        }
      ]
    },
    {
      "cell_type": "code",
      "source": [
        "normaliza = MinMaxScaler()\n",
        "X=normaliza.fit_transform(X)\n",
        "#Dados depois da normalização\n",
        "print(X)"
      ],
      "metadata": {
        "id": "gzN70fHZR0ek",
        "colab": {
          "base_uri": "https://localhost:8080/"
        },
        "outputId": "199ad3e8-479e-4b8c-e9cc-786e30346308"
      },
      "execution_count": null,
      "outputs": [
        {
          "output_type": "stream",
          "name": "stdout",
          "text": [
            "[[0.24489796 0.         0.33333333 ... 0.         0.29545455 0.5       ]\n",
            " [0.42857143 1.         1.         ... 0.         0.40909091 1.        ]\n",
            " [0.18367347 0.         0.33333333 ... 0.         0.29545455 0.5       ]\n",
            " ...\n",
            " [0.35563226 1.         0.66337693 ... 0.         0.29545455 0.5       ]\n",
            " [0.46208292 0.         0.62386245 ... 0.37613755 0.37385101 0.5       ]\n",
            " [0.35373077 0.74079915 1.         ... 0.         0.29545455 0.5       ]]\n"
          ]
        }
      ]
    },
    {
      "cell_type": "markdown",
      "metadata": {
        "id": "U_xExtyn29Gh"
      },
      "source": [
        "## Arvore de Decisão\n"
      ]
    },
    {
      "cell_type": "markdown",
      "source": [
        "#### Construção do objeto da classe Árvore de Decisão"
      ],
      "metadata": {
        "id": "66FqSsrGMR1S"
      }
    },
    {
      "cell_type": "code",
      "metadata": {
        "id": "SHBGCyYY29Gi",
        "colab": {
          "base_uri": "https://localhost:8080/",
          "height": 74
        },
        "outputId": "56d7df0b-50ea-4a18-d2cc-13d6a2607791"
      },
      "source": [
        "tree = DecisionTreeClassifier(max_depth = 5)\n",
        "tree.fit(X,y)"
      ],
      "execution_count": null,
      "outputs": [
        {
          "output_type": "execute_result",
          "data": {
            "text/plain": [
              "DecisionTreeClassifier(max_depth=5)"
            ],
            "text/html": [
              "<style>#sk-container-id-1 {color: black;background-color: white;}#sk-container-id-1 pre{padding: 0;}#sk-container-id-1 div.sk-toggleable {background-color: white;}#sk-container-id-1 label.sk-toggleable__label {cursor: pointer;display: block;width: 100%;margin-bottom: 0;padding: 0.3em;box-sizing: border-box;text-align: center;}#sk-container-id-1 label.sk-toggleable__label-arrow:before {content: \"▸\";float: left;margin-right: 0.25em;color: #696969;}#sk-container-id-1 label.sk-toggleable__label-arrow:hover:before {color: black;}#sk-container-id-1 div.sk-estimator:hover label.sk-toggleable__label-arrow:before {color: black;}#sk-container-id-1 div.sk-toggleable__content {max-height: 0;max-width: 0;overflow: hidden;text-align: left;background-color: #f0f8ff;}#sk-container-id-1 div.sk-toggleable__content pre {margin: 0.2em;color: black;border-radius: 0.25em;background-color: #f0f8ff;}#sk-container-id-1 input.sk-toggleable__control:checked~div.sk-toggleable__content {max-height: 200px;max-width: 100%;overflow: auto;}#sk-container-id-1 input.sk-toggleable__control:checked~label.sk-toggleable__label-arrow:before {content: \"▾\";}#sk-container-id-1 div.sk-estimator input.sk-toggleable__control:checked~label.sk-toggleable__label {background-color: #d4ebff;}#sk-container-id-1 div.sk-label input.sk-toggleable__control:checked~label.sk-toggleable__label {background-color: #d4ebff;}#sk-container-id-1 input.sk-hidden--visually {border: 0;clip: rect(1px 1px 1px 1px);clip: rect(1px, 1px, 1px, 1px);height: 1px;margin: -1px;overflow: hidden;padding: 0;position: absolute;width: 1px;}#sk-container-id-1 div.sk-estimator {font-family: monospace;background-color: #f0f8ff;border: 1px dotted black;border-radius: 0.25em;box-sizing: border-box;margin-bottom: 0.5em;}#sk-container-id-1 div.sk-estimator:hover {background-color: #d4ebff;}#sk-container-id-1 div.sk-parallel-item::after {content: \"\";width: 100%;border-bottom: 1px solid gray;flex-grow: 1;}#sk-container-id-1 div.sk-label:hover label.sk-toggleable__label {background-color: #d4ebff;}#sk-container-id-1 div.sk-serial::before {content: \"\";position: absolute;border-left: 1px solid gray;box-sizing: border-box;top: 0;bottom: 0;left: 50%;z-index: 0;}#sk-container-id-1 div.sk-serial {display: flex;flex-direction: column;align-items: center;background-color: white;padding-right: 0.2em;padding-left: 0.2em;position: relative;}#sk-container-id-1 div.sk-item {position: relative;z-index: 1;}#sk-container-id-1 div.sk-parallel {display: flex;align-items: stretch;justify-content: center;background-color: white;position: relative;}#sk-container-id-1 div.sk-item::before, #sk-container-id-1 div.sk-parallel-item::before {content: \"\";position: absolute;border-left: 1px solid gray;box-sizing: border-box;top: 0;bottom: 0;left: 50%;z-index: -1;}#sk-container-id-1 div.sk-parallel-item {display: flex;flex-direction: column;z-index: 1;position: relative;background-color: white;}#sk-container-id-1 div.sk-parallel-item:first-child::after {align-self: flex-end;width: 50%;}#sk-container-id-1 div.sk-parallel-item:last-child::after {align-self: flex-start;width: 50%;}#sk-container-id-1 div.sk-parallel-item:only-child::after {width: 0;}#sk-container-id-1 div.sk-dashed-wrapped {border: 1px dashed gray;margin: 0 0.4em 0.5em 0.4em;box-sizing: border-box;padding-bottom: 0.4em;background-color: white;}#sk-container-id-1 div.sk-label label {font-family: monospace;font-weight: bold;display: inline-block;line-height: 1.2em;}#sk-container-id-1 div.sk-label-container {text-align: center;}#sk-container-id-1 div.sk-container {/* jupyter's `normalize.less` sets `[hidden] { display: none; }` but bootstrap.min.css set `[hidden] { display: none !important; }` so we also need the `!important` here to be able to override the default hidden behavior on the sphinx rendered scikit-learn.org. See: https://github.com/scikit-learn/scikit-learn/issues/21755 */display: inline-block !important;position: relative;}#sk-container-id-1 div.sk-text-repr-fallback {display: none;}</style><div id=\"sk-container-id-1\" class=\"sk-top-container\"><div class=\"sk-text-repr-fallback\"><pre>DecisionTreeClassifier(max_depth=5)</pre><b>In a Jupyter environment, please rerun this cell to show the HTML representation or trust the notebook. <br />On GitHub, the HTML representation is unable to render, please try loading this page with nbviewer.org.</b></div><div class=\"sk-container\" hidden><div class=\"sk-item\"><div class=\"sk-estimator sk-toggleable\"><input class=\"sk-toggleable__control sk-hidden--visually\" id=\"sk-estimator-id-1\" type=\"checkbox\" checked><label for=\"sk-estimator-id-1\" class=\"sk-toggleable__label sk-toggleable__label-arrow\">DecisionTreeClassifier</label><div class=\"sk-toggleable__content\"><pre>DecisionTreeClassifier(max_depth=5)</pre></div></div></div></div></div>"
            ]
          },
          "metadata": {},
          "execution_count": 12
        }
      ]
    },
    {
      "cell_type": "code",
      "metadata": {
        "id": "JYFDXfPp29Gk",
        "colab": {
          "base_uri": "https://localhost:8080/",
          "height": 117
        },
        "outputId": "fc24af4d-c4b5-43ec-d438-8ea0854d6582"
      },
      "source": [
        "#Aplicação do GridSearchCV\n",
        "tree_para = {'criterion':['entropy','gini'],'max_depth':[4,5,6,7,8,9,10,11,12,15,20,30,40,50,70,90,120,150],'min_samples_leaf':[1,2,3,4,5]}\n",
        "grid = GridSearchCV(tree, tree_para, cv=5)\n",
        "grid.fit(X, y)"
      ],
      "execution_count": null,
      "outputs": [
        {
          "output_type": "execute_result",
          "data": {
            "text/plain": [
              "GridSearchCV(cv=5, estimator=DecisionTreeClassifier(max_depth=5),\n",
              "             param_grid={'criterion': ['entropy', 'gini'],\n",
              "                         'max_depth': [4, 5, 6, 7, 8, 9, 10, 11, 12, 15, 20, 30,\n",
              "                                       40, 50, 70, 90, 120, 150],\n",
              "                         'min_samples_leaf': [1, 2, 3, 4, 5]})"
            ],
            "text/html": [
              "<style>#sk-container-id-2 {color: black;background-color: white;}#sk-container-id-2 pre{padding: 0;}#sk-container-id-2 div.sk-toggleable {background-color: white;}#sk-container-id-2 label.sk-toggleable__label {cursor: pointer;display: block;width: 100%;margin-bottom: 0;padding: 0.3em;box-sizing: border-box;text-align: center;}#sk-container-id-2 label.sk-toggleable__label-arrow:before {content: \"▸\";float: left;margin-right: 0.25em;color: #696969;}#sk-container-id-2 label.sk-toggleable__label-arrow:hover:before {color: black;}#sk-container-id-2 div.sk-estimator:hover label.sk-toggleable__label-arrow:before {color: black;}#sk-container-id-2 div.sk-toggleable__content {max-height: 0;max-width: 0;overflow: hidden;text-align: left;background-color: #f0f8ff;}#sk-container-id-2 div.sk-toggleable__content pre {margin: 0.2em;color: black;border-radius: 0.25em;background-color: #f0f8ff;}#sk-container-id-2 input.sk-toggleable__control:checked~div.sk-toggleable__content {max-height: 200px;max-width: 100%;overflow: auto;}#sk-container-id-2 input.sk-toggleable__control:checked~label.sk-toggleable__label-arrow:before {content: \"▾\";}#sk-container-id-2 div.sk-estimator input.sk-toggleable__control:checked~label.sk-toggleable__label {background-color: #d4ebff;}#sk-container-id-2 div.sk-label input.sk-toggleable__control:checked~label.sk-toggleable__label {background-color: #d4ebff;}#sk-container-id-2 input.sk-hidden--visually {border: 0;clip: rect(1px 1px 1px 1px);clip: rect(1px, 1px, 1px, 1px);height: 1px;margin: -1px;overflow: hidden;padding: 0;position: absolute;width: 1px;}#sk-container-id-2 div.sk-estimator {font-family: monospace;background-color: #f0f8ff;border: 1px dotted black;border-radius: 0.25em;box-sizing: border-box;margin-bottom: 0.5em;}#sk-container-id-2 div.sk-estimator:hover {background-color: #d4ebff;}#sk-container-id-2 div.sk-parallel-item::after {content: \"\";width: 100%;border-bottom: 1px solid gray;flex-grow: 1;}#sk-container-id-2 div.sk-label:hover label.sk-toggleable__label {background-color: #d4ebff;}#sk-container-id-2 div.sk-serial::before {content: \"\";position: absolute;border-left: 1px solid gray;box-sizing: border-box;top: 0;bottom: 0;left: 50%;z-index: 0;}#sk-container-id-2 div.sk-serial {display: flex;flex-direction: column;align-items: center;background-color: white;padding-right: 0.2em;padding-left: 0.2em;position: relative;}#sk-container-id-2 div.sk-item {position: relative;z-index: 1;}#sk-container-id-2 div.sk-parallel {display: flex;align-items: stretch;justify-content: center;background-color: white;position: relative;}#sk-container-id-2 div.sk-item::before, #sk-container-id-2 div.sk-parallel-item::before {content: \"\";position: absolute;border-left: 1px solid gray;box-sizing: border-box;top: 0;bottom: 0;left: 50%;z-index: -1;}#sk-container-id-2 div.sk-parallel-item {display: flex;flex-direction: column;z-index: 1;position: relative;background-color: white;}#sk-container-id-2 div.sk-parallel-item:first-child::after {align-self: flex-end;width: 50%;}#sk-container-id-2 div.sk-parallel-item:last-child::after {align-self: flex-start;width: 50%;}#sk-container-id-2 div.sk-parallel-item:only-child::after {width: 0;}#sk-container-id-2 div.sk-dashed-wrapped {border: 1px dashed gray;margin: 0 0.4em 0.5em 0.4em;box-sizing: border-box;padding-bottom: 0.4em;background-color: white;}#sk-container-id-2 div.sk-label label {font-family: monospace;font-weight: bold;display: inline-block;line-height: 1.2em;}#sk-container-id-2 div.sk-label-container {text-align: center;}#sk-container-id-2 div.sk-container {/* jupyter's `normalize.less` sets `[hidden] { display: none; }` but bootstrap.min.css set `[hidden] { display: none !important; }` so we also need the `!important` here to be able to override the default hidden behavior on the sphinx rendered scikit-learn.org. See: https://github.com/scikit-learn/scikit-learn/issues/21755 */display: inline-block !important;position: relative;}#sk-container-id-2 div.sk-text-repr-fallback {display: none;}</style><div id=\"sk-container-id-2\" class=\"sk-top-container\"><div class=\"sk-text-repr-fallback\"><pre>GridSearchCV(cv=5, estimator=DecisionTreeClassifier(max_depth=5),\n",
              "             param_grid={&#x27;criterion&#x27;: [&#x27;entropy&#x27;, &#x27;gini&#x27;],\n",
              "                         &#x27;max_depth&#x27;: [4, 5, 6, 7, 8, 9, 10, 11, 12, 15, 20, 30,\n",
              "                                       40, 50, 70, 90, 120, 150],\n",
              "                         &#x27;min_samples_leaf&#x27;: [1, 2, 3, 4, 5]})</pre><b>In a Jupyter environment, please rerun this cell to show the HTML representation or trust the notebook. <br />On GitHub, the HTML representation is unable to render, please try loading this page with nbviewer.org.</b></div><div class=\"sk-container\" hidden><div class=\"sk-item sk-dashed-wrapped\"><div class=\"sk-label-container\"><div class=\"sk-label sk-toggleable\"><input class=\"sk-toggleable__control sk-hidden--visually\" id=\"sk-estimator-id-2\" type=\"checkbox\" ><label for=\"sk-estimator-id-2\" class=\"sk-toggleable__label sk-toggleable__label-arrow\">GridSearchCV</label><div class=\"sk-toggleable__content\"><pre>GridSearchCV(cv=5, estimator=DecisionTreeClassifier(max_depth=5),\n",
              "             param_grid={&#x27;criterion&#x27;: [&#x27;entropy&#x27;, &#x27;gini&#x27;],\n",
              "                         &#x27;max_depth&#x27;: [4, 5, 6, 7, 8, 9, 10, 11, 12, 15, 20, 30,\n",
              "                                       40, 50, 70, 90, 120, 150],\n",
              "                         &#x27;min_samples_leaf&#x27;: [1, 2, 3, 4, 5]})</pre></div></div></div><div class=\"sk-parallel\"><div class=\"sk-parallel-item\"><div class=\"sk-item\"><div class=\"sk-label-container\"><div class=\"sk-label sk-toggleable\"><input class=\"sk-toggleable__control sk-hidden--visually\" id=\"sk-estimator-id-3\" type=\"checkbox\" ><label for=\"sk-estimator-id-3\" class=\"sk-toggleable__label sk-toggleable__label-arrow\">estimator: DecisionTreeClassifier</label><div class=\"sk-toggleable__content\"><pre>DecisionTreeClassifier(max_depth=5)</pre></div></div></div><div class=\"sk-serial\"><div class=\"sk-item\"><div class=\"sk-estimator sk-toggleable\"><input class=\"sk-toggleable__control sk-hidden--visually\" id=\"sk-estimator-id-4\" type=\"checkbox\" ><label for=\"sk-estimator-id-4\" class=\"sk-toggleable__label sk-toggleable__label-arrow\">DecisionTreeClassifier</label><div class=\"sk-toggleable__content\"><pre>DecisionTreeClassifier(max_depth=5)</pre></div></div></div></div></div></div></div></div></div></div>"
            ]
          },
          "metadata": {},
          "execution_count": 13
        }
      ]
    },
    {
      "cell_type": "code",
      "metadata": {
        "colab": {
          "base_uri": "https://localhost:8080/"
        },
        "id": "GLTZ3WvvK9Ui",
        "outputId": "296e6811-c4b5-47f7-fceb-7cdb009bf4a4"
      },
      "source": [
        "best_clf = grid.best_estimator_\n",
        "print(best_clf)"
      ],
      "execution_count": null,
      "outputs": [
        {
          "output_type": "stream",
          "name": "stdout",
          "text": [
            "DecisionTreeClassifier(criterion='entropy', max_depth=5)\n"
          ]
        }
      ]
    },
    {
      "cell_type": "code",
      "metadata": {
        "id": "XiZ2GiBvN_HV",
        "colab": {
          "base_uri": "https://localhost:8080/",
          "height": 406
        },
        "outputId": "ca4a08c9-56fd-4d2a-8cd8-742d7a42c5a6"
      },
      "source": [
        "plot_tree(best_clf, filled=True)\n",
        "plt.show()"
      ],
      "execution_count": null,
      "outputs": [
        {
          "output_type": "display_data",
          "data": {
            "text/plain": [
              "<Figure size 640x480 with 1 Axes>"
            ],
            "image/png": "[encoded data removed]"
          },
          "metadata": {}
        }
      ]
    },
    {
      "cell_type": "code",
      "metadata": {
        "id": "5ALAVVVCh29K",
        "colab": {
          "base_uri": "https://localhost:8080/"
        },
        "outputId": "141d3435-a4d0-435f-dee9-8124dae99c85"
      },
      "source": [
        "print(export_text(best_clf))"
      ],
      "execution_count": null,
      "outputs": [
        {
          "output_type": "stream",
          "name": "stdout",
          "text": [
            "|--- feature_10 <= 0.99\n",
            "|   |--- feature_2 <= 0.01\n",
            "|   |   |--- feature_8 <= 0.89\n",
            "|   |   |   |--- feature_4 <= 0.07\n",
            "|   |   |   |   |--- feature_5 <= 0.50\n",
            "|   |   |   |   |   |--- class: 0.0\n",
            "|   |   |   |   |--- feature_5 >  0.50\n",
            "|   |   |   |   |   |--- class: 1.0\n",
            "|   |   |   |--- feature_4 >  0.07\n",
            "|   |   |   |   |--- feature_7 <= 0.56\n",
            "|   |   |   |   |   |--- class: 0.0\n",
            "|   |   |   |   |--- feature_7 >  0.56\n",
            "|   |   |   |   |   |--- class: 0.0\n",
            "|   |   |--- feature_8 >  0.89\n",
            "|   |   |   |--- feature_9 <= 0.38\n",
            "|   |   |   |   |--- feature_4 <= 0.32\n",
            "|   |   |   |   |   |--- class: 1.0\n",
            "|   |   |   |   |--- feature_4 >  0.32\n",
            "|   |   |   |   |   |--- class: 0.0\n",
            "|   |   |   |--- feature_9 >  0.38\n",
            "|   |   |   |   |--- feature_3 <= 0.44\n",
            "|   |   |   |   |   |--- class: 0.0\n",
            "|   |   |   |   |--- feature_3 >  0.44\n",
            "|   |   |   |   |   |--- class: 1.0\n",
            "|   |--- feature_2 >  0.01\n",
            "|   |   |--- feature_4 <= 0.20\n",
            "|   |   |   |--- feature_9 <= 0.39\n",
            "|   |   |   |   |--- feature_3 <= 0.49\n",
            "|   |   |   |   |   |--- class: 1.0\n",
            "|   |   |   |   |--- feature_3 >  0.49\n",
            "|   |   |   |   |   |--- class: 0.0\n",
            "|   |   |   |--- feature_9 >  0.39\n",
            "|   |   |   |   |--- class: 1.0\n",
            "|   |   |--- feature_4 >  0.20\n",
            "|   |   |   |--- feature_0 <= 0.59\n",
            "|   |   |   |   |--- feature_3 <= 0.95\n",
            "|   |   |   |   |   |--- class: 0.0\n",
            "|   |   |   |   |--- feature_3 >  0.95\n",
            "|   |   |   |   |   |--- class: 1.0\n",
            "|   |   |   |--- feature_0 >  0.59\n",
            "|   |   |   |   |--- feature_1 <= 0.07\n",
            "|   |   |   |   |   |--- class: 0.0\n",
            "|   |   |   |   |--- feature_1 >  0.07\n",
            "|   |   |   |   |   |--- class: 0.0\n",
            "|--- feature_10 >  0.99\n",
            "|   |--- feature_1 <= 0.04\n",
            "|   |   |--- feature_2 <= 0.17\n",
            "|   |   |   |--- feature_4 <= 0.28\n",
            "|   |   |   |   |--- class: 1.0\n",
            "|   |   |   |--- feature_4 >  0.28\n",
            "|   |   |   |   |--- feature_5 <= 0.50\n",
            "|   |   |   |   |   |--- class: 1.0\n",
            "|   |   |   |   |--- feature_5 >  0.50\n",
            "|   |   |   |   |   |--- class: 1.0\n",
            "|   |   |--- feature_2 >  0.17\n",
            "|   |   |   |--- feature_7 <= 0.50\n",
            "|   |   |   |   |--- feature_6 <= 0.25\n",
            "|   |   |   |   |   |--- class: 1.0\n",
            "|   |   |   |   |--- feature_6 >  0.25\n",
            "|   |   |   |   |   |--- class: 1.0\n",
            "|   |   |   |--- feature_7 >  0.50\n",
            "|   |   |   |   |--- feature_4 <= 0.41\n",
            "|   |   |   |   |   |--- class: 1.0\n",
            "|   |   |   |   |--- feature_4 >  0.41\n",
            "|   |   |   |   |   |--- class: 1.0\n",
            "|   |--- feature_1 >  0.04\n",
            "|   |   |--- feature_5 <= 0.71\n",
            "|   |   |   |--- feature_8 <= 0.96\n",
            "|   |   |   |   |--- feature_3 <= 0.74\n",
            "|   |   |   |   |   |--- class: 0.0\n",
            "|   |   |   |   |--- feature_3 >  0.74\n",
            "|   |   |   |   |   |--- class: 1.0\n",
            "|   |   |   |--- feature_8 >  0.96\n",
            "|   |   |   |   |--- feature_0 <= 0.52\n",
            "|   |   |   |   |   |--- class: 0.0\n",
            "|   |   |   |   |--- feature_0 >  0.52\n",
            "|   |   |   |   |   |--- class: 1.0\n",
            "|   |   |--- feature_5 >  0.71\n",
            "|   |   |   |--- class: 1.0\n",
            "\n"
          ]
        }
      ]
    },
    {
      "cell_type": "markdown",
      "metadata": {
        "id": "p902N4x5Lzb_"
      },
      "source": [
        "#### Criação de conjuntos de treino e teste\n",
        "#### Método de amostragem HoldOut"
      ]
    },
    {
      "cell_type": "code",
      "execution_count": null,
      "metadata": {
        "colab": {
          "base_uri": "https://localhost:8080/"
        },
        "outputId": "c668dce3-382b-4ea4-812e-4783ebe4f587",
        "id": "wXQsshFeLzcF"
      },
      "outputs": [
        {
          "output_type": "stream",
          "name": "stdout",
          "text": [
            "(711, 11) (711,)\n",
            "(305, 11) (305,)\n"
          ]
        }
      ],
      "source": [
        "#Criação de conjuntos de treino e teste\n",
        "X_train, X_test, y_train, y_test = train_test_split(X,y,test_size=0.3,random_state=100)\n",
        "print (X_train.shape, y_train.shape)\n",
        "print (X_test.shape, y_test.shape)"
      ]
    },
    {
      "cell_type": "code",
      "execution_count": null,
      "metadata": {
        "id": "sKVWuu1ALzcG"
      },
      "outputs": [],
      "source": [
        "#Treino com dados de treino\n",
        "best_clf=best_clf.fit(X_train, y_train)"
      ]
    },
    {
      "cell_type": "code",
      "execution_count": null,
      "metadata": {
        "id": "DJMob_q3LzcG"
      },
      "outputs": [],
      "source": [
        "#Armazena as predicões\n",
        "predictions_train = best_clf.predict(X_test)"
      ]
    },
    {
      "cell_type": "code",
      "execution_count": null,
      "metadata": {
        "colab": {
          "base_uri": "https://localhost:8080/"
        },
        "outputId": "fff5218d-789c-403e-db61-6cafd7ef812b",
        "id": "60UDo981LzcG"
      },
      "outputs": [
        {
          "output_type": "execute_result",
          "data": {
            "text/plain": [
              "array([[136,  26],\n",
              "       [ 16, 127]])"
            ]
          },
          "metadata": {},
          "execution_count": 20
        }
      ],
      "source": [
        "#Gera a matriz de confusão\n",
        "confusion_matrix(y_test,predictions_train)"
      ]
    },
    {
      "cell_type": "code",
      "execution_count": null,
      "metadata": {
        "colab": {
          "base_uri": "https://localhost:8080/",
          "height": 447
        },
        "outputId": "1413dc1d-8ade-46cb-e5f4-6d946a1b27e4",
        "id": "mWrEibo4LzcG"
      },
      "outputs": [
        {
          "output_type": "execute_result",
          "data": {
            "text/plain": [
              "<Axes: >"
            ]
          },
          "metadata": {},
          "execution_count": 21
        },
        {
          "output_type": "display_data",
          "data": {
            "text/plain": [
              "<Figure size 640x480 with 2 Axes>"
            ],
            "image/png": "[encoded data removed]"
          },
          "metadata": {}
        }
      ],
      "source": [
        "#Gera a matriz de confusão do treino na visualização de HeatMMap\n",
        "cf = confusion_matrix(y_test,predictions_train)\n",
        "lbl1=['Not heart disease', 'Heart disease']\n",
        "lbl2 = ['Not heart disease', 'Heart disease']\n",
        "sb.heatmap(cf,annot=True,cmap=\"Blues\", fmt=\"d\",xticklabels=lbl1,yticklabels=lbl2)"
      ]
    },
    {
      "cell_type": "code",
      "execution_count": null,
      "metadata": {
        "colab": {
          "base_uri": "https://localhost:8080/"
        },
        "outputId": "92a4591a-b941-4736-f88c-79bfdfd89b74",
        "id": "shoqn-0vLzcG"
      },
      "outputs": [
        {
          "output_type": "execute_result",
          "data": {
            "text/plain": [
              "86.22950819672131"
            ]
          },
          "metadata": {},
          "execution_count": 22
        }
      ],
      "source": [
        "#Cálculo da acurácia com dados de teste\n",
        "accuracy_score(y_test,predictions_train)*100"
      ]
    },
    {
      "cell_type": "code",
      "source": [
        "#Métrica de avaliação por classe\n",
        "print(classification_report(y_test,predictions_train,zero_division=0))"
      ],
      "metadata": {
        "colab": {
          "base_uri": "https://localhost:8080/"
        },
        "outputId": "9f0b128a-b15c-4c97-cc3b-5ebfee171c09",
        "id": "KuXaDQp6aKbH"
      },
      "execution_count": null,
      "outputs": [
        {
          "output_type": "stream",
          "name": "stdout",
          "text": [
            "              precision    recall  f1-score   support\n",
            "\n",
            "         0.0       0.89      0.84      0.87       162\n",
            "         1.0       0.83      0.89      0.86       143\n",
            "\n",
            "    accuracy                           0.86       305\n",
            "   macro avg       0.86      0.86      0.86       305\n",
            "weighted avg       0.86      0.86      0.86       305\n",
            "\n"
          ]
        }
      ]
    },
    {
      "cell_type": "markdown",
      "metadata": {
        "id": "GVGK_AbH29Gi"
      },
      "source": [
        "#### Método de amostragem Cross-Validation"
      ]
    },
    {
      "cell_type": "code",
      "source": [
        "#Armazena as predicões\n",
        "predictions = cross_val_predict(best_clf,X,y,cv=10)"
      ],
      "metadata": {
        "id": "oLQAmwcNBKWt"
      },
      "execution_count": null,
      "outputs": []
    },
    {
      "cell_type": "code",
      "metadata": {
        "id": "z2GORQt229Gi",
        "colab": {
          "base_uri": "https://localhost:8080/",
          "height": 447
        },
        "outputId": "776517bc-62e4-4eb4-83f9-5dde01667839"
      },
      "source": [
        "cf = confusion_matrix(y,predictions)\n",
        "lbl1=['Not heart disease', 'Heart disease']\n",
        "lbl2 = ['Not heart disease', 'Heart disease']\n",
        "sb.heatmap(cf,annot=True,cmap=\"Greens\", fmt=\"d\",xticklabels=lbl1,yticklabels=lbl2) # Mostra grafico"
      ],
      "execution_count": null,
      "outputs": [
        {
          "output_type": "execute_result",
          "data": {
            "text/plain": [
              "<Axes: >"
            ]
          },
          "metadata": {},
          "execution_count": 25
        },
        {
          "output_type": "display_data",
          "data": {
            "text/plain": [
              "<Figure size 640x480 with 2 Axes>"
            ],
            "image/png": "[encoded data removed]"
          },
          "metadata": {}
        }
      ]
    },
    {
      "cell_type": "code",
      "metadata": {
        "id": "eqeMR-ok29Gj",
        "colab": {
          "base_uri": "https://localhost:8080/"
        },
        "outputId": "29ca58cb-bbc0-43ca-ac48-b98bde6f13e8"
      },
      "source": [
        "#Cálculo da acurácia\n",
        "print(accuracy_score(y,predictions)*100)"
      ],
      "execution_count": null,
      "outputs": [
        {
          "output_type": "stream",
          "name": "stdout",
          "text": [
            "82.57874015748031\n"
          ]
        }
      ]
    },
    {
      "cell_type": "code",
      "source": [
        "#Métrica de avaliação por classe\n",
        "print(classification_report(y,predictions,zero_division=0))"
      ],
      "metadata": {
        "colab": {
          "base_uri": "https://localhost:8080/"
        },
        "outputId": "c2a82be6-4f95-4ac0-c065-2816dd55f877",
        "id": "1akLBZUNZwqn"
      },
      "execution_count": null,
      "outputs": [
        {
          "output_type": "stream",
          "name": "stdout",
          "text": [
            "              precision    recall  f1-score   support\n",
            "\n",
            "         0.0       0.81      0.85      0.83       508\n",
            "         1.0       0.84      0.80      0.82       508\n",
            "\n",
            "    accuracy                           0.83      1016\n",
            "   macro avg       0.83      0.83      0.83      1016\n",
            "weighted avg       0.83      0.83      0.83      1016\n",
            "\n"
          ]
        }
      ]
    },
    {
      "cell_type": "markdown",
      "metadata": {
        "id": "W-d7Py0MI88m"
      },
      "source": [
        "#### Classificação Binária\n",
        "#### AUC (Area Under Curve)\n"
      ]
    },
    {
      "cell_type": "code",
      "metadata": {
        "id": "e71Uf3miI75W",
        "colab": {
          "base_uri": "https://localhost:8080/"
        },
        "outputId": "9edc777f-aa87-4f4e-aa39-9e74867bef35"
      },
      "source": [
        "false_positive_rate, true_positive_rate, thresholds = roc_curve(y, predictions)\n",
        "roc_auc = auc(false_positive_rate, true_positive_rate)\n",
        "print(roc_auc)"
      ],
      "execution_count": null,
      "outputs": [
        {
          "output_type": "stream",
          "name": "stdout",
          "text": [
            "0.8257874015748031\n"
          ]
        }
      ]
    },
    {
      "cell_type": "markdown",
      "metadata": {
        "id": "ZpddwGFX1Gir"
      },
      "source": [
        "##KNN"
      ]
    },
    {
      "cell_type": "markdown",
      "metadata": {
        "id": "7BOfQdS2pVqO"
      },
      "source": [
        "#### Aplicação do método GridSearchCV"
      ]
    },
    {
      "cell_type": "code",
      "metadata": {
        "id": "L7yrSYRh98II"
      },
      "source": [
        "#GridSearchCV\n",
        "classificadorKnn = KNeighborsClassifier()\n",
        "params = {'n_neighbors':[1,3,5,7,9],'weights':['uniform','distance'],'metric':['euclidean','minkowski','manhattan']}\n",
        "grid = GridSearchCV(classificadorKnn, params)\n",
        "grid_search=grid.fit(X, y)"
      ],
      "execution_count": null,
      "outputs": []
    },
    {
      "cell_type": "code",
      "metadata": {
        "colab": {
          "base_uri": "https://localhost:8080/"
        },
        "outputId": "c4886918-59b0-4795-d8f8-71a324a49639",
        "id": "ICoU-VV498IX"
      },
      "source": [
        "best_clf = grid.best_estimator_\n",
        "print(best_clf)"
      ],
      "execution_count": null,
      "outputs": [
        {
          "output_type": "stream",
          "name": "stdout",
          "text": [
            "KNeighborsClassifier(metric='manhattan', n_neighbors=7, weights='distance')\n"
          ]
        }
      ]
    },
    {
      "cell_type": "markdown",
      "metadata": {
        "id": "UK0dCDujpVqR"
      },
      "source": [
        "####Criação de conjuntos de treino e teste\n",
        "#### Método de amostragem HoldOut"
      ]
    },
    {
      "cell_type": "code",
      "execution_count": null,
      "metadata": {
        "id": "AfhrRrc0pVqR",
        "colab": {
          "base_uri": "https://localhost:8080/"
        },
        "outputId": "fc97d618-a8f3-4fb9-a060-807908a7e245"
      },
      "outputs": [
        {
          "output_type": "stream",
          "name": "stdout",
          "text": [
            "(711, 11) (711,)\n",
            "(305, 11) (305,)\n"
          ]
        }
      ],
      "source": [
        "#Criação de conjuntos de treino e teste\n",
        "X_train, X_test, y_train, y_test = train_test_split(X,y,test_size=0.3,random_state=100)\n",
        "print (X_train.shape, y_train.shape)\n",
        "print (X_test.shape, y_test.shape)"
      ]
    },
    {
      "cell_type": "code",
      "execution_count": null,
      "metadata": {
        "id": "Cd2XIuB7pVqR"
      },
      "outputs": [],
      "source": [
        "#ClassificadorNeigh\n",
        "ClassificadorNeigh=best_clf.fit(X_train, y_train)"
      ]
    },
    {
      "cell_type": "code",
      "execution_count": null,
      "metadata": {
        "id": "vwh4KLtzpVqS"
      },
      "outputs": [],
      "source": [
        "#Armazena as predicões\n",
        "predictions_train = ClassificadorNeigh.predict(X_test)"
      ]
    },
    {
      "cell_type": "code",
      "execution_count": null,
      "metadata": {
        "colab": {
          "base_uri": "https://localhost:8080/"
        },
        "id": "tGkhtQKvpVqS",
        "outputId": "ae06ecc7-9cfd-4bf1-cca4-9cc9d4d38c12"
      },
      "outputs": [
        {
          "output_type": "execute_result",
          "data": {
            "text/plain": [
              "array([[135,  27],\n",
              "       [ 13, 130]])"
            ]
          },
          "metadata": {},
          "execution_count": 34
        }
      ],
      "source": [
        "#Gera a matriz de confusão\n",
        "confusion_matrix(y_test,predictions_train)"
      ]
    },
    {
      "cell_type": "code",
      "execution_count": null,
      "metadata": {
        "colab": {
          "base_uri": "https://localhost:8080/",
          "height": 447
        },
        "id": "0fuu2OzBpVqT",
        "outputId": "8b28ea19-c99a-4dd4-e8be-04140a5d4c41"
      },
      "outputs": [
        {
          "output_type": "execute_result",
          "data": {
            "text/plain": [
              "<Axes: >"
            ]
          },
          "metadata": {},
          "execution_count": 35
        },
        {
          "output_type": "display_data",
          "data": {
            "text/plain": [
              "<Figure size 640x480 with 2 Axes>"
            ],
            "image/png": "[encoded data removed]"
          },
          "metadata": {}
        }
      ],
      "source": [
        "#Gera a matriz de confusão do treino na visualização de HeatMMap\n",
        "cf = confusion_matrix(y_test,predictions_train)\n",
        "lbl1=['Not heart disease', 'Heart disease']\n",
        "lbl2 = ['Not heart disease', 'Heart disease']\n",
        "sb.heatmap(cf,annot=True,cmap=\"Blues\", fmt=\"d\",xticklabels=lbl1,yticklabels=lbl2)"
      ]
    },
    {
      "cell_type": "code",
      "execution_count": null,
      "metadata": {
        "colab": {
          "base_uri": "https://localhost:8080/"
        },
        "id": "aShQ98ScpVqT",
        "outputId": "ec68a422-f500-4c9e-93c5-0a5efd70541e"
      },
      "outputs": [
        {
          "output_type": "execute_result",
          "data": {
            "text/plain": [
              "86.88524590163934"
            ]
          },
          "metadata": {},
          "execution_count": 36
        }
      ],
      "source": [
        "#Cálculo da acurácia com dados de teste\n",
        "accuracy_score(y_test,predictions_train)*100"
      ]
    },
    {
      "cell_type": "code",
      "source": [
        "#Métrica de avaliação por classe\n",
        "print(classification_report(y_test,predictions_train,zero_division=0))"
      ],
      "metadata": {
        "colab": {
          "base_uri": "https://localhost:8080/"
        },
        "outputId": "380bb776-3ed4-4ca0-ce5b-c8e734950c5c",
        "id": "G12GV4HJZVFh"
      },
      "execution_count": null,
      "outputs": [
        {
          "output_type": "stream",
          "name": "stdout",
          "text": [
            "              precision    recall  f1-score   support\n",
            "\n",
            "         0.0       0.91      0.83      0.87       162\n",
            "         1.0       0.83      0.91      0.87       143\n",
            "\n",
            "    accuracy                           0.87       305\n",
            "   macro avg       0.87      0.87      0.87       305\n",
            "weighted avg       0.87      0.87      0.87       305\n",
            "\n"
          ]
        }
      ]
    },
    {
      "cell_type": "markdown",
      "source": [
        "#### Método de amostragem Cross-Validation"
      ],
      "metadata": {
        "id": "b6yzk9H5tQjK"
      }
    },
    {
      "cell_type": "code",
      "execution_count": null,
      "metadata": {
        "id": "iEpAcb8MpVqT"
      },
      "outputs": [],
      "source": [
        "#Cross Validation\n",
        "predictions_train2 = cross_val_predict(best_clf,X,y)"
      ]
    },
    {
      "cell_type": "code",
      "source": [
        "#Gera a matriz de confusão dos dados de treino\n",
        "confusion_matrix(y,predictions_train2)"
      ],
      "metadata": {
        "colab": {
          "base_uri": "https://localhost:8080/"
        },
        "id": "qwbA6n2AugaQ",
        "outputId": "17724364-cc8b-42c3-ca39-96e7d6aa01cf"
      },
      "execution_count": null,
      "outputs": [
        {
          "output_type": "execute_result",
          "data": {
            "text/plain": [
              "array([[434,  74],\n",
              "       [ 83, 425]])"
            ]
          },
          "metadata": {},
          "execution_count": 39
        }
      ]
    },
    {
      "cell_type": "code",
      "source": [
        "#Gera a matriz de confusão do treino na visualização de HeatMMap\n",
        "cf = confusion_matrix(y,predictions_train2)\n",
        "lbl1=['Not heart disease', 'Heart disease']\n",
        "lbl2 = ['Not heart disease', 'Heart disease']\n",
        "sb.heatmap(cf,annot=True,cmap=\"Reds\", fmt=\"d\",xticklabels=lbl1,yticklabels=lbl2)"
      ],
      "metadata": {
        "colab": {
          "base_uri": "https://localhost:8080/"
        },
        "id": "GykJiBsButaI",
        "outputId": "2161a786-ea76-4a69-f4b5-a741655c0052"
      },
      "execution_count": null,
      "outputs": [
        {
          "output_type": "execute_result",
          "data": {
            "text/plain": [
              "<Axes: >"
            ]
          },
          "metadata": {},
          "execution_count": 40
        },
        {
          "output_type": "display_data",
          "data": {
            "text/plain": [
              "<Figure size 640x480 with 2 Axes>"
            ],
            "image/png": "[encoded data removed]"
          },
          "metadata": {}
        }
      ]
    },
    {
      "cell_type": "code",
      "source": [
        "#Cálculo da acurácia com dados de teste\n",
        "accuracy_score(y,predictions_train2)*100"
      ],
      "metadata": {
        "colab": {
          "base_uri": "https://localhost:8080/"
        },
        "id": "Hyy25h26_Qqe",
        "outputId": "fb5a8e1f-953f-4136-f082-c1adfb36e4a9"
      },
      "execution_count": null,
      "outputs": [
        {
          "output_type": "execute_result",
          "data": {
            "text/plain": [
              "84.54724409448819"
            ]
          },
          "metadata": {},
          "execution_count": 41
        }
      ]
    },
    {
      "cell_type": "code",
      "source": [
        "#Métrica de avaliação por classe\n",
        "print(classification_report(y,predictions_train2,zero_division=0))"
      ],
      "metadata": {
        "colab": {
          "base_uri": "https://localhost:8080/"
        },
        "outputId": "dd604632-8df6-4644-8ff6-faf3d0db1655",
        "id": "89g5-UuhZOJb"
      },
      "execution_count": null,
      "outputs": [
        {
          "output_type": "stream",
          "name": "stdout",
          "text": [
            "              precision    recall  f1-score   support\n",
            "\n",
            "         0.0       0.84      0.85      0.85       508\n",
            "         1.0       0.85      0.84      0.84       508\n",
            "\n",
            "    accuracy                           0.85      1016\n",
            "   macro avg       0.85      0.85      0.85      1016\n",
            "weighted avg       0.85      0.85      0.85      1016\n",
            "\n"
          ]
        }
      ]
    },
    {
      "cell_type": "markdown",
      "metadata": {
        "id": "CJqGTBVE1T-9"
      },
      "source": [
        "## Redes Bayesianas"
      ]
    },
    {
      "cell_type": "markdown",
      "metadata": {
        "id": "jNGi2mLx7gZH"
      },
      "source": [
        "\n",
        "### Modelo Gaussiano\n"
      ]
    },
    {
      "cell_type": "code",
      "source": [
        "gnb = GaussianNB()\n",
        "params = {'var_smoothing': [1e-9, 1e-6, 1e-12]}\n",
        "\n",
        "gaussian_nb_grid = GridSearchCV(gnb, param_grid=params, n_jobs=-1, cv=5, verbose=5)\n",
        "gaussian_nb_grid.fit(X,y)"
      ],
      "metadata": {
        "colab": {
          "base_uri": "https://localhost:8080/",
          "height": 134
        },
        "id": "Km2AcXliJr1P",
        "outputId": "20effd7f-b2e0-48ec-f273-2c33b8cb4ebc"
      },
      "execution_count": null,
      "outputs": [
        {
          "output_type": "stream",
          "name": "stdout",
          "text": [
            "Fitting 5 folds for each of 3 candidates, totalling 15 fits\n"
          ]
        },
        {
          "output_type": "execute_result",
          "data": {
            "text/plain": [
              "GridSearchCV(cv=5, estimator=GaussianNB(), n_jobs=-1,\n",
              "             param_grid={'var_smoothing': [1e-09, 1e-06, 1e-12]}, verbose=5)"
            ],
            "text/html": [
              "<style>#sk-container-id-3 {color: black;background-color: white;}#sk-container-id-3 pre{padding: 0;}#sk-container-id-3 div.sk-toggleable {background-color: white;}#sk-container-id-3 label.sk-toggleable__label {cursor: pointer;display: block;width: 100%;margin-bottom: 0;padding: 0.3em;box-sizing: border-box;text-align: center;}#sk-container-id-3 label.sk-toggleable__label-arrow:before {content: \"▸\";float: left;margin-right: 0.25em;color: #696969;}#sk-container-id-3 label.sk-toggleable__label-arrow:hover:before {color: black;}#sk-container-id-3 div.sk-estimator:hover label.sk-toggleable__label-arrow:before {color: black;}#sk-container-id-3 div.sk-toggleable__content {max-height: 0;max-width: 0;overflow: hidden;text-align: left;background-color: #f0f8ff;}#sk-container-id-3 div.sk-toggleable__content pre {margin: 0.2em;color: black;border-radius: 0.25em;background-color: #f0f8ff;}#sk-container-id-3 input.sk-toggleable__control:checked~div.sk-toggleable__content {max-height: 200px;max-width: 100%;overflow: auto;}#sk-container-id-3 input.sk-toggleable__control:checked~label.sk-toggleable__label-arrow:before {content: \"▾\";}#sk-container-id-3 div.sk-estimator input.sk-toggleable__control:checked~label.sk-toggleable__label {background-color: #d4ebff;}#sk-container-id-3 div.sk-label input.sk-toggleable__control:checked~label.sk-toggleable__label {background-color: #d4ebff;}#sk-container-id-3 input.sk-hidden--visually {border: 0;clip: rect(1px 1px 1px 1px);clip: rect(1px, 1px, 1px, 1px);height: 1px;margin: -1px;overflow: hidden;padding: 0;position: absolute;width: 1px;}#sk-container-id-3 div.sk-estimator {font-family: monospace;background-color: #f0f8ff;border: 1px dotted black;border-radius: 0.25em;box-sizing: border-box;margin-bottom: 0.5em;}#sk-container-id-3 div.sk-estimator:hover {background-color: #d4ebff;}#sk-container-id-3 div.sk-parallel-item::after {content: \"\";width: 100%;border-bottom: 1px solid gray;flex-grow: 1;}#sk-container-id-3 div.sk-label:hover label.sk-toggleable__label {background-color: #d4ebff;}#sk-container-id-3 div.sk-serial::before {content: \"\";position: absolute;border-left: 1px solid gray;box-sizing: border-box;top: 0;bottom: 0;left: 50%;z-index: 0;}#sk-container-id-3 div.sk-serial {display: flex;flex-direction: column;align-items: center;background-color: white;padding-right: 0.2em;padding-left: 0.2em;position: relative;}#sk-container-id-3 div.sk-item {position: relative;z-index: 1;}#sk-container-id-3 div.sk-parallel {display: flex;align-items: stretch;justify-content: center;background-color: white;position: relative;}#sk-container-id-3 div.sk-item::before, #sk-container-id-3 div.sk-parallel-item::before {content: \"\";position: absolute;border-left: 1px solid gray;box-sizing: border-box;top: 0;bottom: 0;left: 50%;z-index: -1;}#sk-container-id-3 div.sk-parallel-item {display: flex;flex-direction: column;z-index: 1;position: relative;background-color: white;}#sk-container-id-3 div.sk-parallel-item:first-child::after {align-self: flex-end;width: 50%;}#sk-container-id-3 div.sk-parallel-item:last-child::after {align-self: flex-start;width: 50%;}#sk-container-id-3 div.sk-parallel-item:only-child::after {width: 0;}#sk-container-id-3 div.sk-dashed-wrapped {border: 1px dashed gray;margin: 0 0.4em 0.5em 0.4em;box-sizing: border-box;padding-bottom: 0.4em;background-color: white;}#sk-container-id-3 div.sk-label label {font-family: monospace;font-weight: bold;display: inline-block;line-height: 1.2em;}#sk-container-id-3 div.sk-label-container {text-align: center;}#sk-container-id-3 div.sk-container {/* jupyter's `normalize.less` sets `[hidden] { display: none; }` but bootstrap.min.css set `[hidden] { display: none !important; }` so we also need the `!important` here to be able to override the default hidden behavior on the sphinx rendered scikit-learn.org. See: https://github.com/scikit-learn/scikit-learn/issues/21755 */display: inline-block !important;position: relative;}#sk-container-id-3 div.sk-text-repr-fallback {display: none;}</style><div id=\"sk-container-id-3\" class=\"sk-top-container\"><div class=\"sk-text-repr-fallback\"><pre>GridSearchCV(cv=5, estimator=GaussianNB(), n_jobs=-1,\n",
              "             param_grid={&#x27;var_smoothing&#x27;: [1e-09, 1e-06, 1e-12]}, verbose=5)</pre><b>In a Jupyter environment, please rerun this cell to show the HTML representation or trust the notebook. <br />On GitHub, the HTML representation is unable to render, please try loading this page with nbviewer.org.</b></div><div class=\"sk-container\" hidden><div class=\"sk-item sk-dashed-wrapped\"><div class=\"sk-label-container\"><div class=\"sk-label sk-toggleable\"><input class=\"sk-toggleable__control sk-hidden--visually\" id=\"sk-estimator-id-5\" type=\"checkbox\" ><label for=\"sk-estimator-id-5\" class=\"sk-toggleable__label sk-toggleable__label-arrow\">GridSearchCV</label><div class=\"sk-toggleable__content\"><pre>GridSearchCV(cv=5, estimator=GaussianNB(), n_jobs=-1,\n",
              "             param_grid={&#x27;var_smoothing&#x27;: [1e-09, 1e-06, 1e-12]}, verbose=5)</pre></div></div></div><div class=\"sk-parallel\"><div class=\"sk-parallel-item\"><div class=\"sk-item\"><div class=\"sk-label-container\"><div class=\"sk-label sk-toggleable\"><input class=\"sk-toggleable__control sk-hidden--visually\" id=\"sk-estimator-id-6\" type=\"checkbox\" ><label for=\"sk-estimator-id-6\" class=\"sk-toggleable__label sk-toggleable__label-arrow\">estimator: GaussianNB</label><div class=\"sk-toggleable__content\"><pre>GaussianNB()</pre></div></div></div><div class=\"sk-serial\"><div class=\"sk-item\"><div class=\"sk-estimator sk-toggleable\"><input class=\"sk-toggleable__control sk-hidden--visually\" id=\"sk-estimator-id-7\" type=\"checkbox\" ><label for=\"sk-estimator-id-7\" class=\"sk-toggleable__label sk-toggleable__label-arrow\">GaussianNB</label><div class=\"sk-toggleable__content\"><pre>GaussianNB()</pre></div></div></div></div></div></div></div></div></div></div>"
            ]
          },
          "metadata": {},
          "execution_count": 43
        }
      ]
    },
    {
      "cell_type": "markdown",
      "metadata": {
        "id": "7PLh3MVuGi17"
      },
      "source": [
        "#### Criação de conjuntos de treino e teste\n",
        "#### Método de amostragem HoldOut"
      ]
    },
    {
      "cell_type": "code",
      "execution_count": null,
      "metadata": {
        "colab": {
          "base_uri": "https://localhost:8080/"
        },
        "outputId": "38df5856-0a1e-4831-abd7-87bae95d7c8a",
        "id": "1GSvKoAHGi18"
      },
      "outputs": [
        {
          "output_type": "stream",
          "name": "stdout",
          "text": [
            "(711, 11) (711,)\n",
            "(305, 11) (305,)\n"
          ]
        }
      ],
      "source": [
        "#Criacao de conjuntos de treino e teste\n",
        "X_train, X_test, y_train, y_test = train_test_split(X,y,test_size=0.3,random_state=100)\n",
        "print (X_train.shape, y_train.shape)\n",
        "print (X_test.shape, y_test.shape)"
      ]
    },
    {
      "cell_type": "code",
      "execution_count": null,
      "metadata": {
        "colab": {
          "base_uri": "https://localhost:8080/"
        },
        "id": "33oFoByBGi18",
        "outputId": "c35d6b2d-0528-4683-afdb-bfad6a6c2101"
      },
      "outputs": [
        {
          "output_type": "stream",
          "name": "stdout",
          "text": [
            "Fitting 5 folds for each of 3 candidates, totalling 15 fits\n"
          ]
        }
      ],
      "source": [
        "gnb=gaussian_nb_grid.fit(X_train, y_train)"
      ]
    },
    {
      "cell_type": "code",
      "execution_count": null,
      "metadata": {
        "id": "VMHAS_4NGi18"
      },
      "outputs": [],
      "source": [
        "#Armazena as predicões\n",
        "predictions_train = gnb.predict(X_test)"
      ]
    },
    {
      "cell_type": "code",
      "execution_count": null,
      "metadata": {
        "colab": {
          "base_uri": "https://localhost:8080/"
        },
        "outputId": "0f1b777e-8116-4903-c647-81fb2762f5b3",
        "id": "iLqIysUFGi18"
      },
      "outputs": [
        {
          "output_type": "execute_result",
          "data": {
            "text/plain": [
              "array([[134,  28],\n",
              "       [ 20, 123]])"
            ]
          },
          "metadata": {},
          "execution_count": 47
        }
      ],
      "source": [
        "#Gera a matriz de confusão do treino\n",
        "confusion_matrix(y_test,predictions_train)"
      ]
    },
    {
      "cell_type": "code",
      "execution_count": null,
      "metadata": {
        "colab": {
          "base_uri": "https://localhost:8080/",
          "height": 447
        },
        "outputId": "5c14a8f0-74c3-4191-ddb6-8989e0fe0eb0",
        "id": "VXMIcCfuGi19"
      },
      "outputs": [
        {
          "output_type": "execute_result",
          "data": {
            "text/plain": [
              "<Axes: >"
            ]
          },
          "metadata": {},
          "execution_count": 48
        },
        {
          "output_type": "display_data",
          "data": {
            "text/plain": [
              "<Figure size 640x480 with 2 Axes>"
            ],
            "image/png": "[encoded data removed]"
          },
          "metadata": {}
        }
      ],
      "source": [
        "#Gera a matriz de confusão do treino na visualização de HeatMMap\n",
        "cf = confusion_matrix(y_test,predictions_train)\n",
        "lbl1=['Not heart disease', 'Heart disease']\n",
        "lbl2 = ['Not heart disease', 'Heart disease']\n",
        "sb.heatmap(cf,annot=True,cmap=\"Blues\", fmt=\"d\",xticklabels=lbl1,yticklabels=lbl2)"
      ]
    },
    {
      "cell_type": "code",
      "execution_count": null,
      "metadata": {
        "colab": {
          "base_uri": "https://localhost:8080/"
        },
        "outputId": "4ead9aa3-5dd6-460c-8eda-0b243c8340e1",
        "id": "q87YGT2VGi19"
      },
      "outputs": [
        {
          "output_type": "execute_result",
          "data": {
            "text/plain": [
              "84.26229508196721"
            ]
          },
          "metadata": {},
          "execution_count": 49
        }
      ],
      "source": [
        "#Cálculo da acurácia com dados de teste\n",
        "accuracy_score(y_test,predictions_train)*100"
      ]
    },
    {
      "cell_type": "code",
      "source": [
        "#Métrica de avaliação por classe\n",
        "print(classification_report(y_test,predictions_train,zero_division=0))"
      ],
      "metadata": {
        "colab": {
          "base_uri": "https://localhost:8080/"
        },
        "outputId": "d01b5508-7ba6-44e6-fdf0-147b12ed73bf",
        "id": "9dU0o7AsYd1T"
      },
      "execution_count": null,
      "outputs": [
        {
          "output_type": "stream",
          "name": "stdout",
          "text": [
            "              precision    recall  f1-score   support\n",
            "\n",
            "         0.0       0.87      0.83      0.85       162\n",
            "         1.0       0.81      0.86      0.84       143\n",
            "\n",
            "    accuracy                           0.84       305\n",
            "   macro avg       0.84      0.84      0.84       305\n",
            "weighted avg       0.84      0.84      0.84       305\n",
            "\n"
          ]
        }
      ]
    },
    {
      "cell_type": "markdown",
      "source": [
        "\n",
        "#### Método de amostragem Cross-Validation\n"
      ],
      "metadata": {
        "id": "1JyHtrU5GTvo"
      }
    },
    {
      "cell_type": "code",
      "execution_count": null,
      "metadata": {
        "id": "OFk5_dy68vQr",
        "colab": {
          "base_uri": "https://localhost:8080/"
        },
        "outputId": "b6436cb3-7b02-4675-d100-c81421db6b1d"
      },
      "outputs": [
        {
          "output_type": "stream",
          "name": "stdout",
          "text": [
            "Fitting 5 folds for each of 3 candidates, totalling 15 fits\n",
            "Fitting 5 folds for each of 3 candidates, totalling 15 fits\n",
            "Fitting 5 folds for each of 3 candidates, totalling 15 fits\n",
            "Fitting 5 folds for each of 3 candidates, totalling 15 fits\n",
            "Fitting 5 folds for each of 3 candidates, totalling 15 fits\n"
          ]
        }
      ],
      "source": [
        "#Cross Validation\n",
        "predictions = cross_val_predict(gnb,X,y,cv=5)"
      ]
    },
    {
      "cell_type": "code",
      "execution_count": null,
      "metadata": {
        "id": "D55fvisN9luV",
        "colab": {
          "base_uri": "https://localhost:8080/"
        },
        "outputId": "b08c3294-963b-44c0-922e-6529886c6efb"
      },
      "outputs": [
        {
          "output_type": "stream",
          "name": "stdout",
          "text": [
            "[[412  96]\n",
            " [ 76 432]]\n"
          ]
        }
      ],
      "source": [
        "#Gera a matriz de confusão do treino\n",
        "print(confusion_matrix(y,predictions))"
      ]
    },
    {
      "cell_type": "code",
      "execution_count": null,
      "metadata": {
        "id": "WxRqbW7S-AVX",
        "colab": {
          "base_uri": "https://localhost:8080/"
        },
        "outputId": "58dce4ef-281a-46d5-c7b8-69ed55b2efa7"
      },
      "outputs": [
        {
          "output_type": "execute_result",
          "data": {
            "text/plain": [
              "<Axes: >"
            ]
          },
          "metadata": {},
          "execution_count": 53
        },
        {
          "output_type": "display_data",
          "data": {
            "text/plain": [
              "<Figure size 640x480 with 2 Axes>"
            ],
            "image/png": "[encoded data removed]"
          },
          "metadata": {}
        }
      ],
      "source": [
        "cf = confusion_matrix(y,predictions)\n",
        "lbl1=['Not heart disease', 'Heart disease']\n",
        "lbl2 = ['Not heart disease', 'Heart disease']\n",
        "sb.heatmap(cf,annot=True,cmap=\"ocean\", fmt=\"d\",xticklabels=lbl1,yticklabels=lbl2)"
      ]
    },
    {
      "cell_type": "code",
      "source": [
        "#Calcula acurácia do treino\n",
        "accuracy_score(y,predictions)*100"
      ],
      "metadata": {
        "colab": {
          "base_uri": "https://localhost:8080/"
        },
        "id": "Uh_E3e2hWZqm",
        "outputId": "f554295c-7162-495b-de10-cfc2ab9e85a9"
      },
      "execution_count": null,
      "outputs": [
        {
          "output_type": "execute_result",
          "data": {
            "text/plain": [
              "83.07086614173228"
            ]
          },
          "metadata": {},
          "execution_count": 54
        }
      ]
    },
    {
      "cell_type": "code",
      "source": [
        "#Métrica de avaliação por classe\n",
        "print(classification_report(y,predictions,zero_division=0))"
      ],
      "metadata": {
        "colab": {
          "base_uri": "https://localhost:8080/"
        },
        "id": "PL87MByfWatv",
        "outputId": "8c03818b-e7a9-4e5b-9865-abf652058605"
      },
      "execution_count": null,
      "outputs": [
        {
          "output_type": "stream",
          "name": "stdout",
          "text": [
            "              precision    recall  f1-score   support\n",
            "\n",
            "         0.0       0.84      0.81      0.83       508\n",
            "         1.0       0.82      0.85      0.83       508\n",
            "\n",
            "    accuracy                           0.83      1016\n",
            "   macro avg       0.83      0.83      0.83      1016\n",
            "weighted avg       0.83      0.83      0.83      1016\n",
            "\n"
          ]
        }
      ]
    },
    {
      "cell_type": "markdown",
      "metadata": {
        "id": "B4Q5J-QEBJY9"
      },
      "source": [
        "### Modelo de Bernoulli"
      ]
    },
    {
      "cell_type": "code",
      "execution_count": null,
      "metadata": {
        "id": "f9zpf7zHAc87",
        "colab": {
          "base_uri": "https://localhost:8080/"
        },
        "outputId": "d97a91af-d393-4b28-836f-1ae999883c41"
      },
      "outputs": [
        {
          "output_type": "stream",
          "name": "stdout",
          "text": [
            "Fitting 5 folds for each of 80 candidates, totalling 400 fits\n"
          ]
        }
      ],
      "source": [
        "gnbB = BernoulliNB()\n",
        "params = {'alpha': [0.01, 0.1, 0.5, 1.0, 10.0],\n",
        "          'fit_prior': [True, False],\n",
        "          'class_prior': [None, [0.1,]* 2, ],\n",
        "          'binarize': [None, 0.0, 8.5, 10.0]\n",
        "         }\n",
        "\n",
        "bernoulli_nb_grid = GridSearchCV(gnbB, param_grid=params, n_jobs=-1, cv=5, verbose=5)\n",
        "bernoulli_nb_grid.fit(X,y)\n",
        "\n",
        "bernoulli_nb_grid = bernoulli_nb_grid.best_estimator_"
      ]
    },
    {
      "cell_type": "markdown",
      "metadata": {
        "id": "ft0jcANFKyf6"
      },
      "source": [
        "#### Criação de conjuntos de treino e teste\n",
        "#### Método de amostragem HoldOut"
      ]
    },
    {
      "cell_type": "code",
      "execution_count": null,
      "metadata": {
        "colab": {
          "base_uri": "https://localhost:8080/"
        },
        "outputId": "29d3993b-a3bb-4835-e972-f40cc6cd1b6c",
        "id": "IMCADQd5KygB"
      },
      "outputs": [
        {
          "output_type": "stream",
          "name": "stdout",
          "text": [
            "(711, 11) (711,)\n",
            "(305, 11) (305,)\n"
          ]
        }
      ],
      "source": [
        "#Criacao de conjuntos de treino e teste\n",
        "X_train, X_test, y_train, y_test = train_test_split(X,y,test_size=0.3,random_state=100)\n",
        "print (X_train.shape, y_train.shape)\n",
        "print (X_test.shape, y_test.shape)"
      ]
    },
    {
      "cell_type": "code",
      "execution_count": null,
      "metadata": {
        "id": "Rf1viYrQKygC"
      },
      "outputs": [],
      "source": [
        "bernoulli_nb_grid=bernoulli_nb_grid.fit(X_train, y_train)"
      ]
    },
    {
      "cell_type": "code",
      "execution_count": null,
      "metadata": {
        "id": "r6hfxiIdKygC"
      },
      "outputs": [],
      "source": [
        "#Armazena as predicões\n",
        "predictions_train = bernoulli_nb_grid.predict(X_test)"
      ]
    },
    {
      "cell_type": "code",
      "execution_count": null,
      "metadata": {
        "colab": {
          "base_uri": "https://localhost:8080/"
        },
        "outputId": "f8cb9148-b7f0-42ab-d537-9a412b116151",
        "id": "_3ybn6VaKygC"
      },
      "outputs": [
        {
          "output_type": "execute_result",
          "data": {
            "text/plain": [
              "array([[136,  26],\n",
              "       [ 25, 118]])"
            ]
          },
          "metadata": {},
          "execution_count": 60
        }
      ],
      "source": [
        "#Gera a matriz de confusão do treino\n",
        "confusion_matrix(y_test,predictions_train)"
      ]
    },
    {
      "cell_type": "code",
      "execution_count": null,
      "metadata": {
        "colab": {
          "base_uri": "https://localhost:8080/"
        },
        "outputId": "a53e1122-4091-46e9-dff1-6bc01374a5c4",
        "id": "2PHNcMcHKygC"
      },
      "outputs": [
        {
          "output_type": "execute_result",
          "data": {
            "text/plain": [
              "<Axes: >"
            ]
          },
          "metadata": {},
          "execution_count": 61
        },
        {
          "output_type": "display_data",
          "data": {
            "text/plain": [
              "<Figure size 640x480 with 2 Axes>"
            ],
            "image/png": "[encoded data removed]"
          },
          "metadata": {}
        }
      ],
      "source": [
        "#Gera a matriz de confusão do treino na visualização de HeatMMap\n",
        "cf = confusion_matrix(y_test,predictions_train)\n",
        "lbl1=['Not heart disease', 'Heart disease']\n",
        "lbl2 = ['Not heart disease', 'Heart disease']\n",
        "sb.heatmap(cf,annot=True,cmap=\"Blues\", fmt=\"d\",xticklabels=lbl1,yticklabels=lbl2)"
      ]
    },
    {
      "cell_type": "code",
      "execution_count": null,
      "metadata": {
        "colab": {
          "base_uri": "https://localhost:8080/"
        },
        "outputId": "55f3bbf4-1d27-456f-f003-a90755012453",
        "id": "-TQ0nU4UKygC"
      },
      "outputs": [
        {
          "output_type": "execute_result",
          "data": {
            "text/plain": [
              "83.27868852459017"
            ]
          },
          "metadata": {},
          "execution_count": 62
        }
      ],
      "source": [
        "#Cálculo da acurácia com dados de teste\n",
        "accuracy_score(y_test,predictions_train)*100"
      ]
    },
    {
      "cell_type": "code",
      "source": [
        "#Métrica de avaliação por classe\n",
        "print(classification_report(y_test,predictions_train,zero_division=0))"
      ],
      "metadata": {
        "colab": {
          "base_uri": "https://localhost:8080/"
        },
        "outputId": "11009fdf-41db-4426-d0a5-22c5e3965c15",
        "id": "sKDCVJPFY1a7"
      },
      "execution_count": null,
      "outputs": [
        {
          "output_type": "stream",
          "name": "stdout",
          "text": [
            "              precision    recall  f1-score   support\n",
            "\n",
            "         0.0       0.84      0.84      0.84       162\n",
            "         1.0       0.82      0.83      0.82       143\n",
            "\n",
            "    accuracy                           0.83       305\n",
            "   macro avg       0.83      0.83      0.83       305\n",
            "weighted avg       0.83      0.83      0.83       305\n",
            "\n"
          ]
        }
      ]
    },
    {
      "cell_type": "markdown",
      "source": [
        "\n",
        "#### Método de amostragem Cross Validation\n"
      ],
      "metadata": {
        "id": "yqSl10XNLX6h"
      }
    },
    {
      "cell_type": "code",
      "execution_count": null,
      "metadata": {
        "id": "yQgOoJTyLX6n"
      },
      "outputs": [],
      "source": [
        "#Cross Validation\n",
        "predictions = cross_val_predict(bernoulli_nb_grid,X,y,cv=5)"
      ]
    },
    {
      "cell_type": "code",
      "execution_count": null,
      "metadata": {
        "colab": {
          "base_uri": "https://localhost:8080/"
        },
        "outputId": "9ce693fb-928c-4132-95c9-959441f09c1f",
        "id": "kWXZuGwuLX6o"
      },
      "outputs": [
        {
          "output_type": "stream",
          "name": "stdout",
          "text": [
            "[[429  79]\n",
            " [109 399]]\n",
            "              precision    recall  f1-score   support\n",
            "\n",
            "         0.0       0.80      0.84      0.82       508\n",
            "         1.0       0.83      0.79      0.81       508\n",
            "\n",
            "    accuracy                           0.81      1016\n",
            "   macro avg       0.82      0.81      0.81      1016\n",
            "weighted avg       0.82      0.81      0.81      1016\n",
            "\n"
          ]
        }
      ],
      "source": [
        "print(confusion_matrix(y,predictions))\n",
        "print(classification_report(y,predictions,zero_division=0))"
      ]
    },
    {
      "cell_type": "code",
      "execution_count": null,
      "metadata": {
        "colab": {
          "base_uri": "https://localhost:8080/"
        },
        "outputId": "d1037488-2a3f-4577-a5e5-405da2cb3cfc",
        "id": "8THodr5ZLX6o"
      },
      "outputs": [
        {
          "output_type": "execute_result",
          "data": {
            "text/plain": [
              "<Axes: >"
            ]
          },
          "metadata": {},
          "execution_count": 66
        },
        {
          "output_type": "display_data",
          "data": {
            "text/plain": [
              "<Figure size 640x480 with 2 Axes>"
            ],
            "image/png": "[encoded data removed]"
          },
          "metadata": {}
        }
      ],
      "source": [
        "cf = confusion_matrix(y,predictions)\n",
        "lbl1=['Not heart disease', 'Heart disease']\n",
        "lbl2 = ['Not heart disease', 'Heart disease']\n",
        "sb.heatmap(cf,annot=True,cmap=\"ocean\", fmt=\"d\",xticklabels=lbl1,yticklabels=lbl2)"
      ]
    },
    {
      "cell_type": "code",
      "source": [
        "#Calcula acurácia do treino\n",
        "accuracy_score(y,predictions)*100"
      ],
      "metadata": {
        "colab": {
          "base_uri": "https://localhost:8080/"
        },
        "id": "0hKZPJKcXXDq",
        "outputId": "68d333f3-e46e-4f11-93f7-2f758f6322df"
      },
      "execution_count": null,
      "outputs": [
        {
          "output_type": "execute_result",
          "data": {
            "text/plain": [
              "81.49606299212599"
            ]
          },
          "metadata": {},
          "execution_count": 67
        }
      ]
    },
    {
      "cell_type": "code",
      "source": [
        "#Métrica de avaliação por classe\n",
        "print(classification_report(y,predictions,zero_division=0))"
      ],
      "metadata": {
        "colab": {
          "base_uri": "https://localhost:8080/"
        },
        "id": "GdWs4oSlXXDr",
        "outputId": "fa239a74-b9ba-40ab-bcc4-f8d05b38f99a"
      },
      "execution_count": null,
      "outputs": [
        {
          "output_type": "stream",
          "name": "stdout",
          "text": [
            "              precision    recall  f1-score   support\n",
            "\n",
            "         0.0       0.80      0.84      0.82       508\n",
            "         1.0       0.83      0.79      0.81       508\n",
            "\n",
            "    accuracy                           0.81      1016\n",
            "   macro avg       0.82      0.81      0.81      1016\n",
            "weighted avg       0.82      0.81      0.81      1016\n",
            "\n"
          ]
        }
      ]
    }
  ],
  "metadata": {
    "kernelspec": {
      "display_name": "Python 3",
      "language": "python",
      "name": "python3"
    },
    "language_info": {
      "codemirror_mode": {
        "name": "ipython",
        "version": 3
      },
      "file_extension": ".py",
      "mimetype": "text/x-python",
      "name": "python",
      "nbconvert_exporter": "python",
      "pygments_lexer": "ipython3",
      "version": "3.7.3"
    },
    "colab": {
      "provenance": [],
      "collapsed_sections": [
        "W-d7Py0MI88m",
        "tmC7nbFz29Gj",
        "aFipAZfG29Gj",
        "ZpddwGFX1Gir",
        "7BOfQdS2pVqO",
        "UK0dCDujpVqR",
        "b6yzk9H5tQjK",
        "jNGi2mLx7gZH",
        "7PLh3MVuGi17",
        "1JyHtrU5GTvo",
        "ft0jcANFKyf6",
        "yqSl10XNLX6h"
      ]
    }
  },
  "nbformat": 4,
  "nbformat_minor": 0
}